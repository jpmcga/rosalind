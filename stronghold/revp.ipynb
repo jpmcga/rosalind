{
 "cells": [
  {
   "cell_type": "code",
   "execution_count": 62,
   "id": "509787c4",
   "metadata": {},
   "outputs": [
    {
     "name": "stdout",
     "output_type": "stream",
     "text": [
      "1 4\n",
      "29 4\n",
      "32 4\n",
      "49 4\n",
      "50 6\n",
      "51 4\n",
      "80 8\n",
      "81 6\n",
      "82 4\n",
      "95 6\n",
      "95 4\n",
      "96 4\n",
      "97 4\n",
      "107 4\n",
      "114 4\n",
      "151 6\n",
      "152 4\n",
      "160 4\n",
      "172 8\n",
      "173 6\n",
      "174 4\n",
      "180 6\n",
      "181 4\n",
      "193 4\n",
      "212 4\n",
      "220 4\n",
      "249 4\n",
      "278 8\n",
      "279 6\n",
      "280 4\n",
      "285 4\n",
      "321 10\n",
      "322 8\n",
      "323 6\n",
      "324 4\n",
      "330 4\n",
      "361 4\n",
      "403 4\n",
      "416 4\n",
      "433 4\n",
      "442 6\n",
      "443 4\n",
      "445 6\n",
      "446 4\n",
      "454 4\n",
      "471 6\n",
      "472 4\n",
      "475 4\n",
      "483 12\n",
      "484 10\n",
      "485 8\n",
      "486 6\n",
      "487 4\n",
      "494 6\n",
      "495 4\n",
      "501 4\n",
      "509 4\n",
      "581 6\n",
      "581 4\n",
      "582 4\n",
      "583 4\n",
      "602 4\n",
      "608 4\n",
      "617 4\n",
      "621 4\n",
      "641 6\n",
      "642 4\n",
      "654 4\n",
      "669 4\n",
      "684 4\n",
      "698 4\n",
      "700 6\n",
      "701 4\n",
      "721 6\n",
      "722 4\n",
      "731 6\n",
      "732 4\n",
      "743 4\n",
      "772 6\n",
      "773 4\n",
      "788 4\n",
      "804 4\n",
      "809 6\n",
      "810 4\n",
      "817 4\n",
      "860 4\n",
      "894 4\n",
      "911 4\n",
      "939 4\n",
      "946 4\n",
      "954 6\n",
      "955 4\n"
     ]
    }
   ],
   "source": [
    "from utils.utils import fasta_to_dict, reverse_comp\n",
    "\n",
    "s = list(fasta_to_dict(\"/Users/jamesmcgann/Downloads/rosalind_revp (1).txt\").values())[0]\n",
    "\n",
    "for p in range(len(s)-4):\n",
    "    c = 12\n",
    "    while c >= 4:\n",
    "        if c+p <= len(s):\n",
    "            if s[p:p+c] == reverse_comp(s[p:p+c]):\n",
    "                print(p+1, c)\n",
    "        else:\n",
    "            pass\n",
    "        \n",
    "        c -= 1\n"
   ]
  },
  {
   "cell_type": "code",
   "execution_count": 6,
   "id": "255ae63c",
   "metadata": {},
   "outputs": [
    {
     "data": {
      "text/plain": [
       "'ATGCAT'"
      ]
     },
     "execution_count": 6,
     "metadata": {},
     "output_type": "execute_result"
    }
   ],
   "source": [
    "reverse_comp('ATGCAT')"
   ]
  },
  {
   "cell_type": "code",
   "execution_count": 23,
   "id": "829cac91",
   "metadata": {},
   "outputs": [
    {
     "data": {
      "text/plain": [
       "'GCAT'"
      ]
     },
     "execution_count": 23,
     "metadata": {},
     "output_type": "execute_result"
    }
   ],
   "source": [
    "s[21:26]"
   ]
  },
  {
   "cell_type": "code",
   "execution_count": 56,
   "id": "b9cac23b",
   "metadata": {},
   "outputs": [
    {
     "data": {
      "text/plain": [
       "'TATAGCACTACGCAGGCGCCTTACCTGTGTCTCCTGGTGGGCGTCTTCTTGGACCACGGTGAGGAGTACGACATCCCGTCCACCTTGGCGCGTAGACTATGTGCCTGGCTCTAGTGCGTTGGCTGGGGCGGAACACCCCGGCAGTTTACGACAGAAGTCCCCAGACGCACTTACCCGGTCGGCGGTTGTCTGACATCAATAGAGACTCGCCTCGCTAGATATGTCGCGTTAAATACCGTTTCGACTACATAGATTGCCGATGTGTGGCGTAGACCCCGTATGCTGAACGTAGCCATAGGACAAGCACAGTAGTTTTTCGAGCGCAACGCGGCGATCAGGTCCGCTTGAATTTCCATTACGAATAAGCACACCCTGTCATTCCTGATGAAATGAATCGCGAGTTAGATCTGGTAGGTCCACCTGATGCTACTTCATATGTTTATGACGTTAGACTCTCATGGCGCCATGTCAGAAGGGAGGTGACAATTATTGAGCTGTACTTCTTAAATTGTCGGTTGTTTCAGGTTCAGAAGCCCGAGACACACTAAACACCAACGCACGAGAATTCGTGAATTAGGGCCGCGCGAGATACTATGCGTCAATTGGAGTTGAGTGTAGGCCAATAGCGGCTAAGCTGATCGGTGCCACTGCGCGCCGTATATGACGAATCGAAGTCGAACATGAGATCGCCGGACTTATTACCTGCTACGGACGGTTTAATGCGTTCGTCGGATAATGCTCCCGAGCATCTTCGTATTTCCTTAAATGCCACTGTCGGGCCAAATTGGGAGGGAATGTATCCACGACCATGGCCTGGCAGCATCCGGCCCTCGCTCCAATGCCGTAGTAGCATAGATACGATTTGATTGTAATACGAATCAGCGGATGCACGCGAGTTCATGGCATAAGTGGTGCCACAGATAT'"
      ]
     },
     "execution_count": 56,
     "metadata": {},
     "output_type": "execute_result"
    }
   ],
   "source": [
    "list(s.values())[0]"
   ]
  },
  {
   "cell_type": "code",
   "execution_count": 24,
   "id": "a63f208d",
   "metadata": {},
   "outputs": [
    {
     "data": {
      "text/plain": [
       "25"
      ]
     },
     "execution_count": 24,
     "metadata": {},
     "output_type": "execute_result"
    }
   ],
   "source": [
    "len(s)"
   ]
  },
  {
   "cell_type": "code",
   "execution_count": null,
   "id": "349742c8",
   "metadata": {},
   "outputs": [],
   "source": []
  }
 ],
 "metadata": {
  "kernelspec": {
   "display_name": "Python 3 (ipykernel)",
   "language": "python",
   "name": "python3"
  },
  "language_info": {
   "codemirror_mode": {
    "name": "ipython",
    "version": 3
   },
   "file_extension": ".py",
   "mimetype": "text/x-python",
   "name": "python",
   "nbconvert_exporter": "python",
   "pygments_lexer": "ipython3",
   "version": "3.10.8"
  }
 },
 "nbformat": 4,
 "nbformat_minor": 5
}

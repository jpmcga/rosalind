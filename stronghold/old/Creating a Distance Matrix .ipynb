{
 "cells": [
  {
   "cell_type": "code",
   "execution_count": 7,
   "metadata": {},
   "outputs": [],
   "source": [
    "from collections import defaultdict\n",
    "\n",
    "def get_hamming(string1, string2):\n",
    "\n",
    "    hamming = 0\n",
    "    for pos in range(len(string1)):\n",
    "        if string1[pos] != string2[pos]:\n",
    "            hamming += 1\n",
    "    return hamming\n",
    "\n",
    "\n",
    "def fasta_to_dict(filename):\n",
    "\n",
    "    file = open(f\"{filename}\")\n",
    "\n",
    "    # Get dict from fasta\n",
    "    sequences = defaultdict(str)\n",
    "\n",
    "    for line in file:\n",
    "        line = line.rstrip()\n",
    "        if line.startswith('>'):\n",
    "            name = line.strip('>')\n",
    "        else:\n",
    "            sequences[name] = sequences[name] + line\n",
    "    \n",
    "    return sequences"
   ]
  },
  {
   "cell_type": "code",
   "execution_count": 8,
   "metadata": {},
   "outputs": [
    {
     "ename": "NameError",
     "evalue": "name 'length' is not defined",
     "output_type": "error",
     "traceback": [
      "\u001b[0;31m---------------------------------------------------------------------------\u001b[0m",
      "\u001b[0;31mNameError\u001b[0m                                 Traceback (most recent call last)",
      "Cell \u001b[0;32mIn [8], line 7\u001b[0m\n\u001b[1;32m      5\u001b[0m \u001b[38;5;28;01mfor\u001b[39;00m col \u001b[38;5;129;01min\u001b[39;00m \u001b[38;5;28mrange\u001b[39m(size):\n\u001b[1;32m      6\u001b[0m     hamming \u001b[38;5;241m=\u001b[39m get_hamming(strings[row], strings[col])\n\u001b[0;32m----> 7\u001b[0m     \u001b[38;5;28mprint\u001b[39m(\u001b[38;5;124m'\u001b[39m\u001b[38;5;132;01m%.5f\u001b[39;00m\u001b[38;5;124m'\u001b[39m \u001b[38;5;241m%\u001b[39m \u001b[38;5;28mfloat\u001b[39m(hamming\u001b[38;5;241m/\u001b[39m\u001b[43mlength\u001b[49m), end \u001b[38;5;241m=\u001b[39m \u001b[38;5;124m'\u001b[39m\u001b[38;5;124m \u001b[39m\u001b[38;5;124m'\u001b[39m)\n\u001b[1;32m      8\u001b[0m \u001b[38;5;28mprint\u001b[39m()\n",
      "\u001b[0;31mNameError\u001b[0m: name 'length' is not defined"
     ]
    }
   ],
   "source": [
    "strings = list(fasta_to_dict('../Input/rosalind_pdst.txt').values())\n",
    "\n",
    "size = len(strings)\n",
    "for row in range(size):\n",
    "    for col in range(size):\n",
    "        hamming = get_hamming(strings[row], strings[col])\n",
    "        print('%.5f' % float(hamming/length), end = ' ')\n",
    "    print()\n"
   ]
  },
  {
   "cell_type": "code",
   "execution_count": 13,
   "metadata": {},
   "outputs": [
    {
     "name": "stdout",
     "output_type": "stream",
     "text": [
      "0.00000 0.48522 0.63300 0.58498 0.53571 0.58005 0.36946 0.62438\n",
      "0.48522 0.00000 0.61823 0.56404 0.49138 0.33498 0.29926 0.63793\n",
      "0.63300 0.61823 0.00000 0.30049 0.48030 0.66256 0.56897 0.44581\n",
      "0.58498 0.56404 0.30049 0.00000 0.31897 0.62808 0.48522 0.29803\n",
      "0.53571 0.49138 0.48030 0.31897 0.00000 0.58498 0.34975 0.47906\n",
      "0.58005 0.33498 0.66256 0.62808 0.58498 0.00000 0.47783 0.64778\n",
      "0.36946 0.29926 0.56897 0.48522 0.34975 0.47783 0.00000 0.58990\n",
      "0.62438 0.63793 0.44581 0.29803 0.47906 0.64778 0.58990 0.00000\n"
     ]
    }
   ],
   "source": [
    "import itertools as it\n",
    "\n",
    "strings = list(fasta_to_dict('../Input/rosalind_pdst.txt').values())\n",
    "\n",
    "length = len(strings[0])\n",
    "l = [get_hamming(x, y)/length for x,y in it.product(strings, repeat=2)]\n",
    "\n",
    "for x in range(len(l))[::size]:\n",
    "    print(\" \".join([f\"{v:.5f}\" for v in l[x:x+size]]))\n",
    "\n"
   ]
  },
  {
   "cell_type": "code",
   "execution_count": 44,
   "metadata": {},
   "outputs": [
    {
     "name": "stdout",
     "output_type": "stream",
     "text": [
      "['0.00000', '0.48522', '0.63300', '0.58498', '0.53571', '0.58005', '0.36946', '0.62438', '0.48522', '0.00000', '0.61823', '0.56404', '0.49138', '0.33498', '0.29926', '0.63793', '0.63300', '0.61823', '0.00000', '0.30049', '0.48030', '0.66256', '0.56897', '0.44581', '0.58498', '0.56404', '0.30049', '0.00000', '0.31897', '0.62808', '0.48522', '0.29803', '0.53571', '0.49138', '0.48030', '0.31897', '0.00000', '0.58498', '0.34975', '0.47906', '0.58005', '0.33498', '0.66256', '0.62808', '0.58498', '0.00000', '0.47783', '0.64778', '0.36946', '0.29926', '0.56897', '0.48522', '0.34975', '0.47783', '0.00000', '0.58990', '0.62438', '0.63793', '0.44581', '0.29803', '0.47906', '0.64778', '0.58990', '0.00000']\n"
     ]
    }
   ],
   "source": [
    "import numpy as np\n",
    "import itertools as it\n",
    "\n",
    "print([f\"{x:.5f}\" for row in np.array([get_hamming(x, y)/length for x,y in it.product(list(fasta_to_dict('../Input/rosalind_pdst.txt').values()), repeat=2)]).reshape(8, 8) for x in row])"
   ]
  },
  {
   "cell_type": "code",
   "execution_count": null,
   "metadata": {},
   "outputs": [],
   "source": []
  },
  {
   "cell_type": "code",
   "execution_count": null,
   "metadata": {},
   "outputs": [],
   "source": []
  }
 ],
 "metadata": {
  "kernelspec": {
   "display_name": "Python 3 (ipykernel)",
   "language": "python",
   "name": "python3"
  },
  "language_info": {
   "codemirror_mode": {
    "name": "ipython",
    "version": 3
   },
   "file_extension": ".py",
   "mimetype": "text/x-python",
   "name": "python",
   "nbconvert_exporter": "python",
   "pygments_lexer": "ipython3",
   "version": "3.10.8"
  }
 },
 "nbformat": 4,
 "nbformat_minor": 2
}

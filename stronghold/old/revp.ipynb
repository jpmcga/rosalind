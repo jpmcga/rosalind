{
 "cells": [
  {
   "cell_type": "code",
   "execution_count": null,
   "id": "509787c4",
   "metadata": {},
   "outputs": [],
   "source": [
    "from utils.utils import fasta_to_dict, reverse_comp\n",
    "\n",
    "s = list(fasta_to_dict(\"/Users/jamesmcgann/Downloads/rosalind_revp.txt\").values())[0]\n",
    "\n",
    "for p in range(len(s)):\n",
    "    c = 12\n",
    "    while c >= 4:\n",
    "        if s[p:p+c] == reverse_comp(s[p:p+c]):\n",
    "            print(p+1, c, s[p:p+c])\n",
    "        c -= 1\n"
   ]
  },
  {
   "cell_type": "code",
   "execution_count": null,
   "id": "255ae63c",
   "metadata": {},
   "outputs": [],
   "source": [
    "reverse_comp('ATGCAT')"
   ]
  },
  {
   "cell_type": "code",
   "execution_count": 1,
   "id": "235385ed",
   "metadata": {},
   "outputs": [
    {
     "name": "stdout",
     "output_type": "stream",
     "text": [
      "1 4\n",
      "2 4\n",
      "53 4\n",
      "66 4\n",
      "67 4\n",
      "77 4\n",
      "85 4\n",
      "114 6\n",
      "115 4\n",
      "120 4\n",
      "149 4\n",
      "201 4\n",
      "213 4\n",
      "215 4\n",
      "226 4\n",
      "233 4\n",
      "251 6\n",
      "252 4\n",
      "273 4\n",
      "274 6\n",
      "275 4\n",
      "294 4\n",
      "297 4\n",
      "340 4\n",
      "341 6\n",
      "342 4\n",
      "356 4\n",
      "368 4\n",
      "368 6\n",
      "369 4\n",
      "369 6\n",
      "370 4\n",
      "371 4\n",
      "396 4\n",
      "415 4\n",
      "423 4\n",
      "433 4\n",
      "464 4\n",
      "468 12\n",
      "469 4\n",
      "469 10\n",
      "470 8\n",
      "471 6\n",
      "472 4\n",
      "475 4\n",
      "490 6\n",
      "491 4\n",
      "507 6\n",
      "508 4\n",
      "562 4\n",
      "579 4\n",
      "620 4\n",
      "657 4\n",
      "674 4\n",
      "687 4\n",
      "723 4\n",
      "744 4\n",
      "766 4\n",
      "788 4\n",
      "802 4\n",
      "817 4\n",
      "819 4\n",
      "838 4\n",
      "840 4\n",
      "871 4\n",
      "884 6\n",
      "885 4\n",
      "888 4\n",
      "892 4\n",
      "901 4\n",
      "936 4\n",
      "943 4\n"
     ]
    }
   ],
   "source": [
    "from utils.utils import fasta_to_dict, reverse_comp\n",
    "\n",
    "s = list(fasta_to_dict(\"/Users/jamesm/Downloads/rosalind_revp (10).txt\").values())[0]\n",
    "\n",
    "for p in range(len(s)):\n",
    "    for x in range(2,7): \n",
    "        if s[p:p+x] == reverse_comp(s[p+x:p+(2*x)]):\n",
    "            print(p+1, x*2, sep=' ')"
   ]
  },
  {
   "cell_type": "code",
   "execution_count": null,
   "id": "9fefec29",
   "metadata": {},
   "outputs": [],
   "source": []
  }
 ],
 "metadata": {
  "kernelspec": {
   "display_name": "Python 3",
   "language": "python",
   "name": "python3"
  },
  "language_info": {
   "codemirror_mode": {
    "name": "ipython",
    "version": 3
   },
   "file_extension": ".py",
   "mimetype": "text/x-python",
   "name": "python",
   "nbconvert_exporter": "python",
   "pygments_lexer": "ipython3",
   "version": "3.8.8"
  }
 },
 "nbformat": 4,
 "nbformat_minor": 5
}

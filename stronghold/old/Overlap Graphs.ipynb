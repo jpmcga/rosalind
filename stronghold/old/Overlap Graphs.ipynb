{
 "cells": [
  {
   "cell_type": "code",
   "execution_count": 3,
   "metadata": {},
   "outputs": [
    {
     "ename": "NameError",
     "evalue": "name 'dic' is not defined",
     "output_type": "error",
     "traceback": [
      "\u001b[0;31m---------------------------------------------------------------------------\u001b[0m",
      "\u001b[0;31mNameError\u001b[0m                                 Traceback (most recent call last)",
      "Cell \u001b[0;32mIn[3], line 9\u001b[0m\n\u001b[1;32m      7\u001b[0m             name \u001b[38;5;241m=\u001b[39m line[\u001b[38;5;241m1\u001b[39m:]\u001b[38;5;241m.\u001b[39mrstrip()\n\u001b[1;32m      8\u001b[0m             \u001b[38;5;28;01mcontinue\u001b[39;00m\n\u001b[0;32m----> 9\u001b[0m         \u001b[43mdic\u001b[49m[name] \u001b[38;5;241m=\u001b[39m line\u001b[38;5;241m.\u001b[39mstrip()\n\u001b[1;32m     12\u001b[0m \u001b[38;5;28mprint\u001b[39m(dic)\n",
      "\u001b[0;31mNameError\u001b[0m: name 'dic' is not defined"
     ]
    }
   ],
   "source": [
    "filename = './input/rosalind_grph.txt'\n",
    "\n",
    "dic = defa\n",
    "with open(filename) as file:\n",
    "    for line in file:\n",
    "        if line.startswith('>'):\n",
    "            name = line[1:].rstrip()\n",
    "            continue\n",
    "        dic[name] = line.strip()\n",
    "        \n",
    "            \n",
    "print(dic)"
   ]
  },
  {
   "cell_type": "code",
   "execution_count": 6,
   "metadata": {},
   "outputs": [
    {
     "name": "stdout",
     "output_type": "stream",
     "text": [
      "AAATAAA AAATTTT\n",
      "AAATAAA AAATCCC\n",
      "AAATTTT TTTTCCC\n"
     ]
    }
   ],
   "source": [
    "strings = ['AAATAAA','AAATTTT','TTTTCCC', 'AAATCCC', 'GGGTGGG']\n",
    "for string1 in strings:\n",
    "    prefix = string1[len(string1)-3:]\n",
    "    for string2 in strings:\n",
    "        if string1 == string2: # What if they actually do equal each other????\n",
    "            continue\n",
    "        suffix = string2[:3]\n",
    "        if prefix == suffix:\n",
    "            print(string1, string2)"
   ]
  },
  {
   "cell_type": "code",
   "execution_count": 7,
   "metadata": {},
   "outputs": [],
   "source": [
    "from collections import defaultdict\n",
    "\n",
    "def overlap_graphs(filename):\n",
    "\n",
    "    strings = defaultdict(str)\n",
    "    file = open(filename).read().split(\"\\n\")\n",
    "    for item in file:\n",
    "        if item.startswith(\">\"):\n",
    "            string = ''\n",
    "            name = item.strip(\">\")\n",
    "        if item.startswith(\"A\") or  item.startswith(\"T\") or item.startswith(\"C\") or item.startswith(\"G\"):\n",
    "            strings[name] = strings[name] + item \n",
    "\n",
    "    res = []\n",
    "    for item in strings.items():\n",
    "        name1, string1 = item\n",
    "        prefix = string1[len(string1)-3:]\n",
    "        for item in strings.items():\n",
    "            name2, string2 = item\n",
    "            if string1 == string2:\n",
    "                continue\n",
    "            suffix = string2[:3]\n",
    "            if prefix == suffix:\n",
    "                res.append((name1, name2))\n",
    "    return res"
   ]
  },
  {
   "cell_type": "code",
   "execution_count": 9,
   "metadata": {},
   "outputs": [
    {
     "name": "stdout",
     "output_type": "stream",
     "text": [
      "1.36 ms ± 4.42 µs per loop (mean ± std. dev. of 7 runs, 1,000 loops each)\n"
     ]
    }
   ],
   "source": [
    "%timeit table = overlap_graphs('input/rosalind_grph.txt')"
   ]
  },
  {
   "cell_type": "code",
   "execution_count": 49,
   "metadata": {},
   "outputs": [
    {
     "name": "stdout",
     "output_type": "stream",
     "text": [
      "155\n"
     ]
    }
   ],
   "source": [
    "print(len(table))\n",
    "# for item in table:\n",
    "#     print(f\"{item[0]} {item[1]}\")"
   ]
  },
  {
   "cell_type": "code",
   "execution_count": 55,
   "metadata": {},
   "outputs": [],
   "source": [
    "# revision\n",
    "from collections import defaultdict\n",
    "from utils import fasta_to_dict\n",
    "\n",
    "def overlap_index(filename, k=3):\n",
    "\n",
    "    seq_dict = fasta_to_dict(filename)\n",
    "    \n",
    "    prefix_dict = defaultdict(list)\n",
    "    [prefix_dict[seq[:k]].append(id) for id, seq in seq_dict.items()]\n",
    "    \n",
    "    return [\n",
    "        (p_id, s_id) for p_id, seq in seq_dict.items()\n",
    "        for s_id in prefix_dict[seq[-k:]]\n",
    "    ]"
   ]
  },
  {
   "cell_type": "code",
   "execution_count": 57,
   "metadata": {},
   "outputs": [
    {
     "name": "stdout",
     "output_type": "stream",
     "text": [
      "170 µs ± 567 ns per loop (mean ± std. dev. of 7 runs, 10,000 loops each)\n"
     ]
    }
   ],
   "source": [
    "%timeit x = overlap_index('input/rosalind_grph.txt')"
   ]
  },
  {
   "cell_type": "code",
   "execution_count": 58,
   "metadata": {},
   "outputs": [
    {
     "data": {
      "text/plain": [
       "[('Rosalind_2890', 'Rosalind_6510'),\n",
       " ('Rosalind_2890', 'Rosalind_0894'),\n",
       " ('Rosalind_2890', 'Rosalind_9502'),\n",
       " ('Rosalind_2890', 'Rosalind_3851'),\n",
       " ('Rosalind_6510', 'Rosalind_3809'),\n",
       " ('Rosalind_6510', 'Rosalind_4209'),\n",
       " ('Rosalind_1194', 'Rosalind_9319'),\n",
       " ('Rosalind_3205', 'Rosalind_3809'),\n",
       " ('Rosalind_3205', 'Rosalind_4209'),\n",
       " ('Rosalind_9365', 'Rosalind_8382'),\n",
       " ('Rosalind_7423', 'Rosalind_2139'),\n",
       " ('Rosalind_7423', 'Rosalind_2430'),\n",
       " ('Rosalind_7423', 'Rosalind_8662'),\n",
       " ('Rosalind_0393', 'Rosalind_7525'),\n",
       " ('Rosalind_0393', 'Rosalind_9658'),\n",
       " ('Rosalind_0393', 'Rosalind_0752'),\n",
       " ('Rosalind_0393', 'Rosalind_5315'),\n",
       " ('Rosalind_5807', 'Rosalind_7423'),\n",
       " ('Rosalind_5807', 'Rosalind_0225'),\n",
       " ('Rosalind_5807', 'Rosalind_1923'),\n",
       " ('Rosalind_7525', 'Rosalind_1194'),\n",
       " ('Rosalind_7525', 'Rosalind_9365'),\n",
       " ('Rosalind_7525', 'Rosalind_5807'),\n",
       " ('Rosalind_7525', 'Rosalind_1382'),\n",
       " ('Rosalind_9942', 'Rosalind_9122'),\n",
       " ('Rosalind_6468', 'Rosalind_8276'),\n",
       " ('Rosalind_6468', 'Rosalind_8078'),\n",
       " ('Rosalind_3809', 'Rosalind_5833'),\n",
       " ('Rosalind_3809', 'Rosalind_6088'),\n",
       " ('Rosalind_5833', 'Rosalind_7916'),\n",
       " ('Rosalind_2139', 'Rosalind_0393'),\n",
       " ('Rosalind_2139', 'Rosalind_6191'),\n",
       " ('Rosalind_2139', 'Rosalind_6384'),\n",
       " ('Rosalind_9319', 'Rosalind_6678'),\n",
       " ('Rosalind_8239', 'Rosalind_7933'),\n",
       " ('Rosalind_8239', 'Rosalind_0147'),\n",
       " ('Rosalind_4264', 'Rosalind_2381'),\n",
       " ('Rosalind_3264', 'Rosalind_9319'),\n",
       " ('Rosalind_9122', 'Rosalind_9543'),\n",
       " ('Rosalind_6327', 'Rosalind_3809'),\n",
       " ('Rosalind_6327', 'Rosalind_4209'),\n",
       " ('Rosalind_0277', 'Rosalind_7739'),\n",
       " ('Rosalind_0277', 'Rosalind_5947'),\n",
       " ('Rosalind_8066', 'Rosalind_5833'),\n",
       " ('Rosalind_8066', 'Rosalind_6088'),\n",
       " ('Rosalind_0695', 'Rosalind_3809'),\n",
       " ('Rosalind_0695', 'Rosalind_4209'),\n",
       " ('Rosalind_7739', 'Rosalind_3205'),\n",
       " ('Rosalind_7739', 'Rosalind_6499'),\n",
       " ('Rosalind_9658', 'Rosalind_9942'),\n",
       " ('Rosalind_9543', 'Rosalind_8276'),\n",
       " ('Rosalind_9543', 'Rosalind_8078'),\n",
       " ('Rosalind_4197', 'Rosalind_5547'),\n",
       " ('Rosalind_8061', 'Rosalind_0277'),\n",
       " ('Rosalind_8061', 'Rosalind_4197'),\n",
       " ('Rosalind_8061', 'Rosalind_2677'),\n",
       " ('Rosalind_8061', 'Rosalind_6361'),\n",
       " ('Rosalind_9133', 'Rosalind_8066'),\n",
       " ('Rosalind_9133', 'Rosalind_6341'),\n",
       " ('Rosalind_7916', 'Rosalind_7933'),\n",
       " ('Rosalind_7916', 'Rosalind_0147'),\n",
       " ('Rosalind_7086', 'Rosalind_6327'),\n",
       " ('Rosalind_7086', 'Rosalind_4918'),\n",
       " ('Rosalind_4918', 'Rosalind_7450'),\n",
       " ('Rosalind_4918', 'Rosalind_7477'),\n",
       " ('Rosalind_0752', 'Rosalind_7423'),\n",
       " ('Rosalind_0752', 'Rosalind_0225'),\n",
       " ('Rosalind_0752', 'Rosalind_1923'),\n",
       " ('Rosalind_8662', 'Rosalind_4264'),\n",
       " ('Rosalind_8662', 'Rosalind_6181'),\n",
       " ('Rosalind_8382', 'Rosalind_9122'),\n",
       " ('Rosalind_6928', 'Rosalind_6683'),\n",
       " ('Rosalind_6928', 'Rosalind_9876'),\n",
       " ('Rosalind_6928', 'Rosalind_6920'),\n",
       " ('Rosalind_8186', 'Rosalind_0548'),\n",
       " ('Rosalind_6683', 'Rosalind_2381'),\n",
       " ('Rosalind_9931', 'Rosalind_6327'),\n",
       " ('Rosalind_9931', 'Rosalind_4918'),\n",
       " ('Rosalind_5315', 'Rosalind_6678'),\n",
       " ('Rosalind_0776', 'Rosalind_6510'),\n",
       " ('Rosalind_0776', 'Rosalind_0894'),\n",
       " ('Rosalind_0776', 'Rosalind_9502'),\n",
       " ('Rosalind_0776', 'Rosalind_3851'),\n",
       " ('Rosalind_1292', 'Rosalind_7916'),\n",
       " ('Rosalind_8769', 'Rosalind_9780'),\n",
       " ('Rosalind_8769', 'Rosalind_0646'),\n",
       " ('Rosalind_8769', 'Rosalind_2614'),\n",
       " ('Rosalind_9876', 'Rosalind_9319'),\n",
       " ('Rosalind_0659', 'Rosalind_6678'),\n",
       " ('Rosalind_2614', 'Rosalind_7739'),\n",
       " ('Rosalind_2614', 'Rosalind_5947'),\n",
       " ('Rosalind_0490', 'Rosalind_8239'),\n",
       " ('Rosalind_0490', 'Rosalind_6928'),\n",
       " ('Rosalind_8988', 'Rosalind_7916'),\n",
       " ('Rosalind_2677', 'Rosalind_9543'),\n",
       " ('Rosalind_9502', 'Rosalind_3205'),\n",
       " ('Rosalind_9502', 'Rosalind_6499'),\n",
       " ('Rosalind_5333', 'Rosalind_8239'),\n",
       " ('Rosalind_5333', 'Rosalind_6928'),\n",
       " ('Rosalind_2381', 'Rosalind_6940'),\n",
       " ('Rosalind_7081', 'Rosalind_7450'),\n",
       " ('Rosalind_7081', 'Rosalind_7477'),\n",
       " ('Rosalind_0147', 'Rosalind_6468'),\n",
       " ('Rosalind_0147', 'Rosalind_7086'),\n",
       " ('Rosalind_0147', 'Rosalind_8462'),\n",
       " ('Rosalind_4209', 'Rosalind_6659'),\n",
       " ('Rosalind_6678', 'Rosalind_8227'),\n",
       " ('Rosalind_6678', 'Rosalind_7536'),\n",
       " ('Rosalind_8462', 'Rosalind_7525'),\n",
       " ('Rosalind_8462', 'Rosalind_9658'),\n",
       " ('Rosalind_8462', 'Rosalind_0752'),\n",
       " ('Rosalind_8462', 'Rosalind_5315'),\n",
       " ('Rosalind_0053', 'Rosalind_0576'),\n",
       " ('Rosalind_0053', 'Rosalind_8295'),\n",
       " ('Rosalind_8295', 'Rosalind_6678'),\n",
       " ('Rosalind_0548', 'Rosalind_9780'),\n",
       " ('Rosalind_0548', 'Rosalind_0646'),\n",
       " ('Rosalind_0548', 'Rosalind_2614'),\n",
       " ('Rosalind_5617', 'Rosalind_2139'),\n",
       " ('Rosalind_5617', 'Rosalind_2430'),\n",
       " ('Rosalind_5617', 'Rosalind_8662'),\n",
       " ('Rosalind_2797', 'Rosalind_0277'),\n",
       " ('Rosalind_2797', 'Rosalind_4197'),\n",
       " ('Rosalind_2797', 'Rosalind_2677'),\n",
       " ('Rosalind_2797', 'Rosalind_6361'),\n",
       " ('Rosalind_6384', 'Rosalind_1455'),\n",
       " ('Rosalind_6384', 'Rosalind_4898'),\n",
       " ('Rosalind_6384', 'Rosalind_8988'),\n",
       " ('Rosalind_6384', 'Rosalind_5617'),\n",
       " ('Rosalind_8637', 'Rosalind_8769'),\n",
       " ('Rosalind_8637', 'Rosalind_7513'),\n",
       " ('Rosalind_8314', 'Rosalind_0393'),\n",
       " ('Rosalind_8314', 'Rosalind_6191'),\n",
       " ('Rosalind_8314', 'Rosalind_6384'),\n",
       " ('Rosalind_6940', 'Rosalind_9319'),\n",
       " ('Rosalind_7477', 'Rosalind_8769'),\n",
       " ('Rosalind_7477', 'Rosalind_7513'),\n",
       " ('Rosalind_6088', 'Rosalind_2890'),\n",
       " ('Rosalind_6088', 'Rosalind_2797'),\n",
       " ('Rosalind_6181', 'Rosalind_0277'),\n",
       " ('Rosalind_6181', 'Rosalind_4197'),\n",
       " ('Rosalind_6181', 'Rosalind_2677'),\n",
       " ('Rosalind_6181', 'Rosalind_6361'),\n",
       " ('Rosalind_2496', 'Rosalind_0776'),\n",
       " ('Rosalind_2496', 'Rosalind_0053'),\n",
       " ('Rosalind_5947', 'Rosalind_6796'),\n",
       " ('Rosalind_5947', 'Rosalind_8637'),\n",
       " ('Rosalind_5947', 'Rosalind_6819'),\n",
       " ('Rosalind_6920', 'Rosalind_7933'),\n",
       " ('Rosalind_6920', 'Rosalind_0147'),\n",
       " ('Rosalind_3851', 'Rosalind_3205'),\n",
       " ('Rosalind_3851', 'Rosalind_6499'),\n",
       " ('Rosalind_6819', 'Rosalind_9133'),\n",
       " ('Rosalind_6819', 'Rosalind_8314'),\n",
       " ('Rosalind_6819', 'Rosalind_2496')]"
      ]
     },
     "execution_count": 58,
     "metadata": {},
     "output_type": "execute_result"
    }
   ],
   "source": [
    "x"
   ]
  },
  {
   "cell_type": "code",
   "execution_count": null,
   "metadata": {},
   "outputs": [],
   "source": []
  }
 ],
 "metadata": {
  "kernelspec": {
   "display_name": "Python 3 (ipykernel)",
   "language": "python",
   "name": "python3"
  },
  "language_info": {
   "codemirror_mode": {
    "name": "ipython",
    "version": 3
   },
   "file_extension": ".py",
   "mimetype": "text/x-python",
   "name": "python",
   "nbconvert_exporter": "python",
   "pygments_lexer": "ipython3",
   "version": "3.8.16"
  }
 },
 "nbformat": 4,
 "nbformat_minor": 2
}

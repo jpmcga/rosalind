{
 "cells": [
  {
   "cell_type": "code",
   "execution_count": null,
   "id": "ada84e30",
   "metadata": {},
   "outputs": [],
   "source": [
    "# OO approch, failed bc it took too long\n",
    "\n",
    "class mating_pair:\n",
    "    def __init__(self, age):\n",
    "        self.age = age\n",
    "        \n",
    "    def grow_old(self):\n",
    "        self.age += 1\n",
    "        \n",
    "rabbits = [mating_pair(1)]\n",
    "\n",
    "generations = 99\n",
    "offspring = 1\n",
    "\n",
    "for generation in range(generations-1):\n",
    "    new_rabbits = []\n",
    "    for rabbit in list(rabbits):\n",
    "        if rabbit.age > 1:\n",
    "            new_rabbits.extend([mating_pair(1) for offspring in range(offspring)])\n",
    "        if rabbit.age == 16:\n",
    "            new_rabbits.extend([mating_pair(1) for offspring in range(offspring)])\n",
    "            rabbits.remove(rabbit)\n",
    "        rabbit.grow_old()        \n",
    "\n",
    "    rabbits.extend(new_rabbits)\n",
    "    \n",
    "    print(len(rabbits))\n",
    "\n",
    "\n",
    "\n"
   ]
  },
  {
   "cell_type": "code",
   "execution_count": null,
   "id": "1b70a6c7",
   "metadata": {},
   "outputs": [],
   "source": [
    "# Thoought could solve from Fibbianci sequence\n",
    "\n",
    "import math\n",
    "\n",
    "def binet(n):\n",
    "    isqrt5 = 1/math.sqrt(5)\n",
    "    return round(isqrt5*((1+math.sqrt(5))/2)**n - isqrt5*((1-math.sqrt(5))/2)**n)\n",
    "    \n",
    "def fib_sum(n):\n",
    "    return binet(n+2)-1\n",
    "\n",
    "def mortal_fib(m):\n",
    "    \n",
    "    if m <= 0:\n",
    "        raise ValueError(\"Integers gt 0 pls\")\n",
    "    m = m-1\n",
    "    if m == 0:\n",
    "        return 1\n",
    "    else:\n",
    "        return binet(m) - fib_sum(m-4)"
   ]
  },
  {
   "cell_type": "code",
   "execution_count": null,
   "id": "8d90f505",
   "metadata": {},
   "outputs": [],
   "source": [
    "# Not generalized, forgot about this in Dec 2022\n",
    "\n",
    "# Solution to Mortal Fibonacci Rabbits problem from Rosalind.com\n",
    "# See https://rosalind.info/problems/fibd/\n",
    "# First solved Sept 2022\n",
    "\n",
    "def mortal_rabbits(generations):\n",
    "    \"\"\"\n",
    "    \"\"\"\n",
    "\n",
    "    new1, mature1, old1 = 1, 0, 0\n",
    "    for i in range(generations-1):\n",
    "        new2 = mature1 + old1\n",
    "        mature2 = new1\n",
    "        old2 = mature1\n",
    "        new1, mature1, old1 = new2, mature2, old2\n",
    "    return new1 + mature1 + old1\n",
    "\n",
    "mortal_rabbits(10)\n",
    "\n",
    "    "
   ]
  },
  {
   "cell_type": "code",
   "execution_count": null,
   "id": "c4670822",
   "metadata": {},
   "outputs": [],
   "source": [
    "# Attempt at recursion 1\n",
    "\n",
    "def fib(n):\n",
    "    if n == 1:\n",
    "        return 1\n",
    "    if n == 2:\n",
    "        return 1\n",
    "    print(\"n =\", n)\n",
    "    s = fib(n-1) + fib(n-2)\n",
    "    print(\"sum :\", s)\n",
    "    return s\n",
    "\n",
    "fib(4)\n"
   ]
  },
  {
   "cell_type": "code",
   "execution_count": null,
   "id": "1fbf3ab0",
   "metadata": {},
   "outputs": [],
   "source": [
    "# Attempt at recursion 2\n",
    "\n",
    "def fib2(n):\n",
    "    \"\"\"\n",
    "    \"\"\"\n",
    "    if n < 0:\n",
    "        return 0\n",
    "    if n == 1:\n",
    "        return 1\n",
    "    if n == 2:\n",
    "        return 1\n",
    "    print(\"n =\", n)\n",
    "    print(fib2(n-1), fib2(n-2), fib2(n-3))\n",
    "    return fib2(n-1) + fib2(n-2) + fib2(n-3)\n",
    "\n",
    "fib2(6)"
   ]
  },
  {
   "cell_type": "code",
   "execution_count": null,
   "id": "bdd6c0a2",
   "metadata": {},
   "outputs": [],
   "source": []
  }
 ],
 "metadata": {
  "kernelspec": {
   "display_name": "Python 3 (ipykernel)",
   "language": "python",
   "name": "python3"
  },
  "language_info": {
   "codemirror_mode": {
    "name": "ipython",
    "version": 3
   },
   "file_extension": ".py",
   "mimetype": "text/x-python",
   "name": "python",
   "nbconvert_exporter": "python",
   "pygments_lexer": "ipython3",
   "version": "3.10.8"
  }
 },
 "nbformat": 4,
 "nbformat_minor": 5
}

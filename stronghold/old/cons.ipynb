{
 "cells": [
  {
   "cell_type": "code",
   "execution_count": null,
   "metadata": {},
   "outputs": [],
   "source": [
    "from collections import defaultdict\n",
    "\n",
    "def fasta_to_dict(filename):\n",
    "\n",
    "    file = open(f\"{filename}\")\n",
    "\n",
    "    # Get dict from fasta\n",
    "    sequences = defaultdict(str)\n",
    "\n",
    "    for line in file:\n",
    "        line = line.rstrip()\n",
    "        if line.startswith('>'):\n",
    "            name = line.strip('>')\n",
    "        else:\n",
    "            sequences[name] = sequences[name] + line\n",
    "    \n",
    "    return sequences"
   ]
  },
  {
   "cell_type": "code",
   "execution_count": null,
   "metadata": {},
   "outputs": [],
   "source": [
    "def concensus(sequences):\n",
    "    # Could be an array of dicts, each position is a dict with \n",
    "    # count, or 2D array as wide as sequence as tall as ATCG\n",
    "    dict1 = {}\n",
    "    bases = ['A', 'C', 'G', 'T']\n",
    "\n",
    "    # Assume all the same length\n",
    "    length = len(list(sequences.values())[0])\n",
    "    for pos in range(length):\n",
    "\n",
    "        # How else to get 0 in here?\n",
    "        dict2 = {}\n",
    "        for base in bases:\n",
    "            dict2[base] = 0\n",
    "\n",
    "        for sequence in sequences.values():\n",
    "            dict2[sequence[pos]] += 1\n",
    "\n",
    "        dict1[pos] = dict2\n",
    "        \n",
    "    # this could be cleaned up\n",
    "    lst1 = []\n",
    "    for value in dict1.values():\n",
    "        lst2 = []\n",
    "        for v in value.items():\n",
    "            lst2.append(v)\n",
    "        # this could be cleaned up\n",
    "        lst1.append(sorted(lst2, key = lambda count: count[1], reverse = True)[0][0])\n",
    "\n",
    "    consensus = ''.join(lst1)\n",
    "    \n",
    "    print(dict1)\n",
    "    return consensus, dict1\n",
    "        "
   ]
  },
  {
   "cell_type": "code",
   "execution_count": null,
   "metadata": {},
   "outputs": [],
   "source": [
    "bases = ['A', 'C', 'G', 'T']\n",
    "sequences = fasta_to_dict(\"Input/rosalind_cons (1).txt\")\n",
    "con, dict1 = concensus(sequences)\n",
    "\n",
    "# print(con)\n",
    "\n",
    "for base in bases:\n",
    "    print(f\"{base}:\", end = ' ')\n",
    "    for pos in range(length):\n",
    "        print(dict1[pos][base], end = ' ')\n",
    "    print()\n"
   ]
  },
  {
   "cell_type": "code",
   "execution_count": null,
   "metadata": {},
   "outputs": [],
   "source": [
    "import pandas as pd\n",
    "from utils import fasta_to_list\n",
    "\n",
    "df = (\n",
    "    pd.DataFrame([list(seq) for seq in fasta_to_list('input/rosalind_cons.txt')])\n",
    "    .apply(pd.value_counts)\n",
    "    .fillna(0)\n",
    ")\n",
    "\n",
    "with open('results/result_cons.txt', 'w') as f:\n",
    "    f.write(f'{\"\".join(list(df.idxmax()))} \\n')\n",
    "    for i in df.index:\n",
    "        f.write(f'{i}: {\" \".join([str(int(x)) for x in list(df.xs(i))])} \\n')"
   ]
  }
 ],
 "metadata": {
  "kernelspec": {
   "display_name": "Python 3 (ipykernel)",
   "language": "python",
   "name": "python3"
  },
  "language_info": {
   "codemirror_mode": {
    "name": "ipython",
    "version": 3
   },
   "file_extension": ".py",
   "mimetype": "text/x-python",
   "name": "python",
   "nbconvert_exporter": "python",
   "pygments_lexer": "ipython3",
   "version": "3.8.16"
  }
 },
 "nbformat": 4,
 "nbformat_minor": 2
}

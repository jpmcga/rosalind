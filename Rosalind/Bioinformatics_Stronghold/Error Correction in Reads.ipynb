{
 "cells": [
  {
   "cell_type": "code",
   "execution_count": 2,
   "metadata": {},
   "outputs": [],
   "source": [
    "def hamming(st1, st2):\n",
    "    \n",
    "    hamming = 0\n",
    "    pairs = zip(list(st1), list(st2))\n",
    "    for pair in pairs:\n",
    "        if pair[0] != pair[1]:\n",
    "            hamming += 1\n",
    "    return hamming\n",
    "\n",
    "def reverse_comp(string):\n",
    "    \n",
    "    string = string.upper()\n",
    "    \n",
    "    dct = {'A': 'T',\n",
    "           'T': 'A',\n",
    "           'C': 'G',\n",
    "           'G': 'C'}\n",
    "    \n",
    "    new_string = \"\"\n",
    "    for char in string[::-1]:\n",
    "        new_string = new_string + dct[char]\n",
    "        \n",
    "    \n",
    "    return new_string"
   ]
  },
  {
   "cell_type": "code",
   "execution_count": 3,
   "metadata": {},
   "outputs": [],
   "source": [
    "from collections import defaultdict\n",
    "def fasta_to_dict(filename):\n",
    "\n",
    "    file = open(f\"{filename}\")\n",
    "\n",
    "    # Get dict from fasta\n",
    "    sequences = defaultdict(str)\n",
    "\n",
    "    for line in file:\n",
    "        line = line.rstrip()\n",
    "        if line.startswith('>'):\n",
    "            name = line.strip('>')\n",
    "        else:\n",
    "            sequences[name] = sequences[name] + line\n",
    "    \n",
    "    return sequences"
   ]
  },
  {
   "cell_type": "code",
   "execution_count": 4,
   "metadata": {},
   "outputs": [],
   "source": [
    "def concensus(sequences):\n",
    "    dict1 = {}\n",
    "    bases = ['A', 'C', 'G', 'T']\n",
    "\n",
    "    # Assume all the same length\n",
    "    length = len(list(sequences.values())[0])\n",
    "    for pos in range(length):\n",
    "\n",
    "        # How else to get 0 in here?\n",
    "        dict2 = {}\n",
    "        for base in bases:\n",
    "            dict2[base] = 0\n",
    "\n",
    "        for sequence in sequences.values():\n",
    "            dict2[sequence[pos]] += 1\n",
    "        dict1[pos] = dict2\n",
    "\n",
    "    # this could be cleaned up\n",
    "    lst1 = []\n",
    "    for value in dict1.values():\n",
    "        lst2 = []\n",
    "        for v in value.items():\n",
    "            lst2.append(v)\n",
    "        lst1.append(sorted(lst2, key = lambda count: count[1], reverse = True)[0][0])\n",
    "\n",
    "    consensus = ''.join(lst1)\n",
    "    \n",
    "    return consensus"
   ]
  },
  {
   "cell_type": "code",
   "execution_count": 8,
   "metadata": {},
   "outputs": [
    {
     "name": "stdout",
     "output_type": "stream",
     "text": [
      "TTCAT->TTGAT\n",
      "GAGGA->GATGA\n",
      "TTTCC->TTTCA\n"
     ]
    }
   ],
   "source": [
    "from collections import defaultdict\n",
    "\n",
    "sequences = list(fasta_to_dict(\"txt_files/error_correction.txt\").values())\n",
    "\n",
    "dct = {sequence: [] for sequence in sequences}\n",
    "\n",
    "for sequence in sequences:\n",
    "    if sequence in dct:\n",
    "        dct[sequence].append(sequence)\n",
    "    rev = reverse_comp(sequence)\n",
    "    if rev in dct:\n",
    "        dct[rev].append(sequence)\n",
    "        \n",
    "losers = [item[0] for item in dct.items() if len(item[1]) == 1]\n",
    "\n",
    "for loser in losers:\n",
    "    for key in dct.keys():\n",
    "        if hamming(loser, key) == 1:\n",
    "            print(f\"{loser}->{key}\")\n",
    "            break\n",
    "        elif hamming(loser, reverse_comp(key)) == 1:\n",
    "            print(f\"{loser}->{reverse_comp(key)}\")\n",
    "            break\n",
    "            "
   ]
  },
  {
   "cell_type": "code",
   "execution_count": null,
   "metadata": {},
   "outputs": [],
   "source": [
    "sequences = list(fasta_to_dict(\"txt_files/rosalind_corr (3).txt\").values())\n",
    "# sequences = list(fasta_to_dict(\"txt_files/error_correction.txt\").values())\n",
    "\n",
    "# Identify all sequences that occur only once\n",
    "losers = []\n",
    "for sequence in sequences:\n",
    "    rev = reverse_comp(sequence)\n",
    "    if sequences.count(sequence) + sequences.count(rev) <= 1:\n",
    "        losers.append(sequence)\n",
    "        \n",
    "\n",
    "sequences = [seq for seq in sequences if seq not in losers] \n",
    "        \n",
    "# Find the find seq where the hamming(loser, seq) == 1\n",
    "for loser in losers:\n",
    "    rev = reverse_comp(sequence)\n",
    "    for sequence in sequences:\n",
    "        if hamming(loser, sequence) == 1:\n",
    "            print(f\"{loser}->{sequence}\")\n",
    "            break\n",
    "        elif hamming(loser, reverse_comp(sequence)) == 1:\n",
    "            print(f\"{loser}->{reverse_comp(sequence)}\")\n",
    "            break\n"
   ]
  },
  {
   "cell_type": "code",
   "execution_count": 13,
   "metadata": {},
   "outputs": [
    {
     "data": {
      "text/plain": [
       "[None, None, None]"
      ]
     },
     "execution_count": 13,
     "metadata": {},
     "output_type": "execute_result"
    }
   ],
   "source": [
    "L1 = [1,2,3,4,5]\n",
    "L2 = [1,2,3]\n",
    "\n",
    "L3 = [L1.remove(x) for x in L2]\n",
    "L3\n",
    "\n",
    "#two dict (one is original, one is of revserse complient) dict is count of how many times seen\n",
    "#third = solo (losers)\n",
    "#Go th"
   ]
  },
  {
   "cell_type": "code",
   "execution_count": null,
   "metadata": {},
   "outputs": [],
   "source": [
    "# # using list comprehension to perform task \n",
    "# res = [i for i in test_list if i not in remove_list] \n",
    "# Take losers and go over full list \n",
    "# Tradeoff bt space and time\n",
    "# dict takes space, but not time\n",
    "id()\n",
    "y = 'cat'\n",
    "x = 'cat'\n",
    "\n",
    "x = '17'\n",
    "y =\n",
    "# first 256 integers will have the same id()\n",
    "# integrer is 40 bites\n",
    "# you save space by only have one copy of them\n",
    "# in python everything is object\n"
   ]
  }
 ],
 "metadata": {
  "kernelspec": {
   "display_name": "Python 3",
   "language": "python",
   "name": "python3"
  },
  "language_info": {
   "codemirror_mode": {
    "name": "ipython",
    "version": 3
   },
   "file_extension": ".py",
   "mimetype": "text/x-python",
   "name": "python",
   "nbconvert_exporter": "python",
   "pygments_lexer": "ipython3",
   "version": "3.7.4"
  }
 },
 "nbformat": 4,
 "nbformat_minor": 2
}

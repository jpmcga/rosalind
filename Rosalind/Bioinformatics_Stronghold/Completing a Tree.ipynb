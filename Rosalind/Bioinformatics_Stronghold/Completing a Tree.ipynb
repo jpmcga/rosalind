{
 "cells": [
  {
   "cell_type": "code",
   "execution_count": 13,
   "metadata": {},
   "outputs": [],
   "source": [
    "def read_tree(filename):\n",
    "    file = open(filename)\n",
    "    tree = [line.rstrip().split(\" \") for line in file.readlines()]\n",
    "    n = int(\"\".join(tree.pop(0)))\n",
    "    \n",
    "    return tree, n\n",
    "\n",
    "\n",
    "def edges_to_complete(filename):\n",
    "    tree, n = read_tree(filename)\n",
    "    edges = len(tree)\n",
    "    final_edges = n-1\n",
    "    edges_to_complete = final_edges-edges\n",
    "    \n",
    "    return edges_to_complete\n"
   ]
  },
  {
   "cell_type": "code",
   "execution_count": 14,
   "metadata": {},
   "outputs": [
    {
     "data": {
      "text/plain": [
       "30"
      ]
     },
     "execution_count": 14,
     "metadata": {},
     "output_type": "execute_result"
    }
   ],
   "source": [
    "edges_to_complete('txt_files/rosalind_tree (1).txt')"
   ]
  },
  {
   "cell_type": "code",
   "execution_count": null,
   "metadata": {},
   "outputs": [],
   "source": [
    "def combine_lists(list1, list2):\n",
    "    for ele in list1:\n",
    "        if ele in list2:\n",
    "            return set(list1 + list2)\n",
    "\n",
    "        \n",
    "def get_paths(filename):\n",
    "    \n",
    "    tree, n = read_tree(filename)\n",
    "    nodes = [str(x+1) for x in range(n)]\n",
    "\n",
    "    paths = [combine_lists(a,b) for a,b in itertools.combinations(tree, 2)\n",
    "                if combine_lists(a,b) is not None]\n",
    "\n",
    "    for node in nodes:\n",
    "        if node not in itertools.chain(*paths):\n",
    "            paths.append({node})\n",
    "\n",
    "    return paths"
   ]
  },
  {
   "cell_type": "code",
   "execution_count": null,
   "metadata": {},
   "outputs": [],
   "source": [
    "# tree, n = read_tree(\"txt_files/rosalind_tree.txt\")\n",
    "# nodes = [str(x+1) for x in range(n)]\n",
    "\n",
    "# branches = [set(tree.pop(0))]\n",
    "# for edge in tree:\n",
    "#     connected_nodes = itertools.chain(*branches)\n",
    "#     if edge[0] not in connected_nodes or edge[1] not in connected_nodes:\n",
    "#         branches.append(edge)\n",
    "        \n",
    "# paths = get_paths(\"txt_files/rosalind_tree.txt\")\n",
    "# print(\"edges to complete\", len(paths)-1)\n",
    "# print()\n",
    "\n",
    "# for i, path in enumerate(paths):\n",
    "#     print(path)\n",
    "#     if i != len(paths)-1:\n",
    "#         print(\"|\")\n",
    "# build a dict of things can reach \n",
    "\n",
    "# debug = False"
   ]
  },
  {
   "cell_type": "code",
   "execution_count": null,
   "metadata": {},
   "outputs": [],
   "source": [
    "\n"
   ]
  }
 ],
 "metadata": {
  "kernelspec": {
   "display_name": "Python 3",
   "language": "python",
   "name": "python3"
  },
  "language_info": {
   "codemirror_mode": {
    "name": "ipython",
    "version": 3
   },
   "file_extension": ".py",
   "mimetype": "text/x-python",
   "name": "python",
   "nbconvert_exporter": "python",
   "pygments_lexer": "ipython3",
   "version": "3.7.4"
  }
 },
 "nbformat": 4,
 "nbformat_minor": 2
}

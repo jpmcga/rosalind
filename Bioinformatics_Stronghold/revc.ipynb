{
 "cells": [
  {
   "cell_type": "code",
   "execution_count": 11,
   "metadata": {},
   "outputs": [
    {
     "data": {
      "text/plain": [
       "'CGAT'"
      ]
     },
     "execution_count": 11,
     "metadata": {},
     "output_type": "execute_result"
    }
   ],
   "source": []
  },
  {
   "cell_type": "code",
   "execution_count": 5,
   "metadata": {},
   "outputs": [
    {
     "ename": "ImportError",
     "evalue": "cannot import name 'basepair_table' from 'utils' (/Users/jamesmcgann/csci7/csci7-james/Rosalind/utils.py)",
     "output_type": "error",
     "traceback": [
      "\u001b[0;31m---------------------------------------------------------------------------\u001b[0m",
      "\u001b[0;31mImportError\u001b[0m                               Traceback (most recent call last)",
      "\u001b[0;32m<ipython-input-5-574bcdc941a0>\u001b[0m in \u001b[0;36m<module>\u001b[0;34m\u001b[0m\n\u001b[0;32m----> 1\u001b[0;31m \u001b[0;32mfrom\u001b[0m \u001b[0mutils\u001b[0m \u001b[0;32mimport\u001b[0m \u001b[0mbasepair_table\u001b[0m\u001b[0;34m\u001b[0m\u001b[0;34m\u001b[0m\u001b[0m\n\u001b[0m\u001b[1;32m      2\u001b[0m \u001b[0;34m\u001b[0m\u001b[0m\n\u001b[1;32m      3\u001b[0m \u001b[0;32mdef\u001b[0m \u001b[0mreverse_complement\u001b[0m\u001b[0;34m(\u001b[0m\u001b[0mseq\u001b[0m\u001b[0;34m)\u001b[0m\u001b[0;34m:\u001b[0m\u001b[0;34m\u001b[0m\u001b[0;34m\u001b[0m\u001b[0m\n\u001b[1;32m      4\u001b[0m \u001b[0;34m\u001b[0m\u001b[0m\n\u001b[1;32m      5\u001b[0m     \u001b[0mseq\u001b[0m \u001b[0;34m=\u001b[0m \u001b[0mseq\u001b[0m\u001b[0;34m.\u001b[0m\u001b[0mupper\u001b[0m\u001b[0;34m(\u001b[0m\u001b[0;34m)\u001b[0m\u001b[0;34m\u001b[0m\u001b[0;34m\u001b[0m\u001b[0m\n",
      "\u001b[0;31mImportError\u001b[0m: cannot import name 'basepair_table' from 'utils' (/Users/jamesmcgann/csci7/csci7-james/Rosalind/utils.py)"
     ]
    }
   ],
   "source": [
    "from utils import basepair_table\n",
    "\n",
    "def reverse_complement(seq):\n",
    "    \n",
    "    seq = seq.upper()\n",
    "    \n",
    "    dct = {'A': 'T',\n",
    "           'T': 'A',\n",
    "           'C': 'G',\n",
    "           'G': 'C'}\n",
    "    \n",
    "    reverse_complement = ''.join([ basepair_table[bp] for bp in seq])\n",
    "    \n",
    "    return reverse_complement\n",
    "\n",
    "reverse_complement(\"GTGCGTTTCAGTATTTAGAGACATATAAGTTCTCGCAGCGCACCTATGGCAAGGTATCAGGGGATATGGCAATGCTGGCTCTACGCATTCAAGCATGTCTTACTATCCTAATAAAGTTCCAGGGGGGGTCGTCTAAAGGGGGCCCCACAGATTGCTCAGACATTTTTACCGTGTCGAAATAGCAACTCTCCTACAAGAAACATCTTAGGAACAGATGCTTGTGTGAAGAGCCTTGATGGTCTACACTGCATACCCATTATCTCGTTTTAGTTGCGAAGGAGAAAATATGTGACATCCGGACACAACCATTACACACTAGCTCATCTCTCATCCACGTTTGCTTTCATAAGAACTTTGAGCGAGGTGTAGACGGAGATAGGAGCACAGAATAAATGCTGAATCCTGCGTGCTGCAGTAAATTCACGTTTGGCTATGCCAGGAAAGGCTTGCCGCGCCGCCAATTTACTCTGGTGACTCACTCGGTCCTCTGAAGAGCAAATCCACAACGGATTACGTGCGAGTTACTCGCCGTAGGACGTTACTCTAGGTTTCTATTGGCGGAGTTCTCTCAAAATATGGCCTGGGAGCTAGAGAAATACGTTGAAAATGTTCCTAAATAGCTAAGCGGTATAACTTAGATGACCGCAGCTAATCTCACACCCTTTAGGAACGTCGATCGGACAGATGTGCAAACAAAAAGACATATGCAATGGGAACCTGGCGCTTCAGTCACAACGTTAAGTCATGCCAGTTGGCACGCTCTCGTGAGCCATCCGTGTAATTCTATTTACCGATGTCATTGCCCTCACCCAGTCACGTGAGACATCCTTTACAGCAAATTATATTGTCGGTAATAGGTTCGCATTCACCACATTAGAAGCACACGGCGAAGCGAAATTTT\")"
   ]
  },
  {
   "cell_type": "code",
   "execution_count": null,
   "metadata": {},
   "outputs": [],
   "source": []
  }
 ],
 "metadata": {
  "kernelspec": {
   "display_name": "Python 3",
   "language": "python",
   "name": "python3"
  },
  "language_info": {
   "codemirror_mode": {
    "name": "ipython",
    "version": 3
   },
   "file_extension": ".py",
   "mimetype": "text/x-python",
   "name": "python",
   "nbconvert_exporter": "python",
   "pygments_lexer": "ipython3",
   "version": "3.7.4"
  }
 },
 "nbformat": 4,
 "nbformat_minor": 2
}

{
 "cells": [
  {
   "cell_type": "code",
   "execution_count": 149,
   "metadata": {},
   "outputs": [],
   "source": [
    "def gc_rank(file):\n",
    "    \n",
    "    with open(file) as file:\n",
    "        dct = {}\n",
    "        for line in file:\n",
    "            if line.startswith('>'):\n",
    "                key = line.strip('>').rstrip()\n",
    "                dct[key] = ''\n",
    "            else:\n",
    "                dct[key] = dct[key] + line.rstrip()\n",
    "    gcs = []\n",
    "    for key in dct.keys():\n",
    "        gc = (((dct[key].count(\"G\") + dct[key].count(\"C\"))/len(dct[key]))*100)\n",
    "        gcs.append((gc, key))\n",
    "        \n",
    "    percent, winner = sorted(gcs, reverse = True)[0]\n",
    "    \n",
    "    return winner, percent\n"
   ]
  },
  {
   "cell_type": "code",
   "execution_count": 150,
   "metadata": {},
   "outputs": [
    {
     "data": {
      "text/plain": [
       "('Rosalind_1825', 52.39551478083588)"
      ]
     },
     "execution_count": 150,
     "metadata": {},
     "output_type": "execute_result"
    }
   ],
   "source": [
    "gc_rank('Computing_GC_Content.txt')"
   ]
  },
  {
   "cell_type": "code",
   "execution_count": null,
   "metadata": {},
   "outputs": [],
   "source": []
  }
 ],
 "metadata": {
  "kernelspec": {
   "display_name": "Python 3",
   "language": "python",
   "name": "python3"
  },
  "language_info": {
   "codemirror_mode": {
    "name": "ipython",
    "version": 3
   },
   "file_extension": ".py",
   "mimetype": "text/x-python",
   "name": "python",
   "nbconvert_exporter": "python",
   "pygments_lexer": "ipython3",
   "version": "3.7.4"
  }
 },
 "nbformat": 4,
 "nbformat_minor": 2
}

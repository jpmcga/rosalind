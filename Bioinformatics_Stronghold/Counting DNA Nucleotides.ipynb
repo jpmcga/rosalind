{
 "cells": [
  {
   "cell_type": "code",
   "execution_count": 1,
   "metadata": {},
   "outputs": [],
   "source": [
    "def count_nucleotides(string):\n",
    "    string = string.lower()\n",
    "    a = string.count('a')\n",
    "    t = string.count('t')\n",
    "    c = string.count('c')\n",
    "    g = string.count('g')\n",
    "    \n",
    "    return a, t, c, g\n",
    "    "
   ]
  },
  {
   "cell_type": "code",
   "execution_count": 16,
   "metadata": {},
   "outputs": [
    {
     "name": "stdout",
     "output_type": "stream",
     "text": [
      "238 220 232 250\n"
     ]
    }
   ],
   "source": [
    "A,T,C,G = count_nucleotides('CTGGGAGCGGTACGACGTTTTTTTACCCGCAAAGCTTTCTACGAGTCAATTTTAAATTAGAAGCGATATGTGTAGTCGAGAAAACACCGTGTGCAATGCAGGTACTATCATATAGGTGGTGATAAAGTGCCCCCTCACTCGACTCAGCATGATTAGGAGCTGTGTTGTCCGTAATGGGGTTCACTTTCAACCACGTGGTTTTACGCGAATGATGGCGTTGCGAAATGCTCGGCTCGATGCGCTCTGTATTTCGGCTAACCCGCAGAGACTCTAAACTCAAACTTTTTAGGGCTAAGAGAGTTGCCCCCCGTCAAGCGGATTGATGATAGCCCATTAATGAGACTCCGCAGATCGTATCTAGTCCAAGACTAAAGTTTTCAGTTAATTAAAGCCATTCCGGGTCAGACCAGACGGTGGCATGGGCAATTTCTTTAGTGATACCAATGCACTGAACGGGGATCCCCAGCGCAAGGGTTACGCTCACCCGTTAAGAGCCCTGACCTTTCCGGCAGGATTGCCTGAATGTGTCATGGTGCTCCCGCCCCCGAGGAGATCATGCGGTAAGGACCCTTAGGCCATACTACGGTCTGTTGATAACAGTGAGTCTACCCAAGACAATATTCGTCTACGCAGATTCGTTTCACGGGCTAGCTCTAATTCGCTTCACCAGGATATAATATGTCTGTAATTGAACTTCTTGCGTAATGTTTAATGAGCTGCATCAACGTTTTGGATCGCGGCGGTGATTTTTAATCTGTAGAAATGCCAGAGAAGTCCAGTTGAGCGGCAGTATTAAGGAAGGGATCCTTCCCGATAACGATCCCACGATGCTTGCGCAGTACAGGCACACGCTAGAGATTCACGGTCGTCTTACTGGTAACTCAGAGCCTCCGTTGGCAGGTCTACAATTAACACGATCGTTCTTGGAAATAGGTAGACC')\n",
    "print(f\"{A} {C} {G} {T}\")\n"
   ]
  },
  {
   "cell_type": "code",
   "execution_count": null,
   "metadata": {},
   "outputs": [],
   "source": []
  }
 ],
 "metadata": {
  "kernelspec": {
   "display_name": "Python 3",
   "language": "python",
   "name": "python3"
  },
  "language_info": {
   "codemirror_mode": {
    "name": "ipython",
    "version": 3
   },
   "file_extension": ".py",
   "mimetype": "text/x-python",
   "name": "python",
   "nbconvert_exporter": "python",
   "pygments_lexer": "ipython3",
   "version": "3.7.4"
  }
 },
 "nbformat": 4,
 "nbformat_minor": 2
}

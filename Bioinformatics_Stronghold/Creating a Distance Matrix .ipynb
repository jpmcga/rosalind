{
 "cells": [
  {
   "cell_type": "code",
   "execution_count": 10,
   "metadata": {},
   "outputs": [],
   "source": [
    "from collections import defaultdict\n",
    "\n",
    "def get_hamming(string1, string2):\n",
    "\n",
    "    hamming = 0\n",
    "    for pos in range(len(string1)):\n",
    "        if string1[pos] != string2[pos]:\n",
    "            hamming += 1\n",
    "    return hamming\n",
    "\n",
    "\n",
    "def fasta_to_dict(filename):\n",
    "\n",
    "    file = open(f\"{filename}\")\n",
    "\n",
    "    # Get dict from fasta\n",
    "    sequences = defaultdict(str)\n",
    "\n",
    "    for line in file:\n",
    "        line = line.rstrip()\n",
    "        if line.startswith('>'):\n",
    "            name = line.strip('>')\n",
    "        else:\n",
    "            sequences[name] = sequences[name] + line\n",
    "    \n",
    "    return sequences"
   ]
  },
  {
   "cell_type": "code",
   "execution_count": 34,
   "metadata": {},
   "outputs": [
    {
     "name": "stdout",
     "output_type": "stream",
     "text": [
      "0.00000 0.48522 0.63300 0.58498 0.53571 0.58005 0.36946 0.62438 \n",
      "0.48522 0.00000 0.61823 0.56404 0.49138 0.33498 0.29926 0.63793 \n",
      "0.63300 0.61823 0.00000 0.30049 0.48030 0.66256 0.56897 0.44581 \n",
      "0.58498 0.56404 0.30049 0.00000 0.31897 0.62808 0.48522 0.29803 \n",
      "0.53571 0.49138 0.48030 0.31897 0.00000 0.58498 0.34975 0.47906 \n",
      "0.58005 0.33498 0.66256 0.62808 0.58498 0.00000 0.47783 0.64778 \n",
      "0.36946 0.29926 0.56897 0.48522 0.34975 0.47783 0.00000 0.58990 \n",
      "0.62438 0.63793 0.44581 0.29803 0.47906 0.64778 0.58990 0.00000 \n"
     ]
    }
   ],
   "source": [
    "strings = list(fasta_to_dict('txt_files/rosalind_pdst.txt').values())\n",
    "\n",
    "matrix = [[0]*len(strings) for x in strings]\n",
    "\n",
    "# Assume all strings are equal length\n",
    "length = len(strings[0])\n",
    "\n",
    "for row in range(len(strings)):\n",
    "    for col in range(len(strings)):\n",
    "        hamming = get_hamming(strings[row], strings[col])\n",
    "        print('%.5f' % float(hamming/length), end = ' ')\n",
    "    print()\n"
   ]
  },
  {
   "cell_type": "code",
   "execution_count": null,
   "metadata": {},
   "outputs": [],
   "source": []
  }
 ],
 "metadata": {
  "kernelspec": {
   "display_name": "Python 3",
   "language": "python",
   "name": "python3"
  },
  "language_info": {
   "codemirror_mode": {
    "name": "ipython",
    "version": 3
   },
   "file_extension": ".py",
   "mimetype": "text/x-python",
   "name": "python",
   "nbconvert_exporter": "python",
   "pygments_lexer": "ipython3",
   "version": "3.7.4"
  }
 },
 "nbformat": 4,
 "nbformat_minor": 2
}

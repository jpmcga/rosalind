{
 "cells": [
  {
   "cell_type": "code",
   "execution_count": 124,
   "metadata": {},
   "outputs": [],
   "source": [
    "from collections import defaultdict\n",
    "\n",
    "def fasta_to_dict(filename):\n",
    "\n",
    "    file = open(f\"{filename}\")\n",
    "\n",
    "    # Get dict from fasta\n",
    "    sequences = defaultdict(str)\n",
    "\n",
    "    for line in file:\n",
    "        line = line.rstrip()\n",
    "        if line.startswith('>'):\n",
    "            name = line.strip('>')\n",
    "        else:\n",
    "            sequences[name] = sequences[name] + line\n",
    "    \n",
    "    return sequences"
   ]
  },
  {
   "cell_type": "code",
   "execution_count": 133,
   "metadata": {},
   "outputs": [],
   "source": [
    "def concensus(sequences):\n",
    "    # Could be an array of dicts, each position is a dict with \n",
    "    # count, or 2D array as wide as sequence as tall as ATCG\n",
    "    dict1 = {}\n",
    "    bases = ['A', 'C', 'G', 'T']\n",
    "\n",
    "    # Assume all the same length\n",
    "    length = len(list(sequences.values())[0])\n",
    "    for pos in range(length):\n",
    "\n",
    "        # How else to get 0 in here?\n",
    "        dict2 = {}\n",
    "        for base in bases:\n",
    "            dict2[base] = 0\n",
    "\n",
    "        for sequence in sequences.values():\n",
    "            dict2[sequence[pos]] += 1\n",
    "\n",
    "        dict1[pos] = dict2\n",
    "        \n",
    "    # this could be cleaned up\n",
    "    lst1 = []\n",
    "    for value in dict1.values():\n",
    "        lst2 = []\n",
    "        for v in value.items():\n",
    "            lst2.append(v)\n",
    "        # this could be cleaned up\n",
    "        lst1.append(sorted(lst2, key = lambda count: count[1], reverse = True)[0][0])\n",
    "\n",
    "    consensus = ''.join(lst1)\n",
    "    \n",
    "    print(dict1)\n",
    "    return consensus, dict1\n",
    "        "
   ]
  },
  {
   "cell_type": "code",
   "execution_count": null,
   "metadata": {},
   "outputs": [],
   "source": []
  },
  {
   "cell_type": "code",
   "execution_count": 136,
   "metadata": {},
   "outputs": [
    {
     "name": "stdout",
     "output_type": "stream",
     "text": [
      "GTGCGCAACTCGTTCGGCGGGTCCGCACACGTCACCCTCGAAAACGTCGAACGAAAGCATACTTACCATGTGCTGTACCAGAGCCGTGAAATGATTTAAAAAAAGAGCAAAGTCACGGCAAAACCAAGTAAACGTAGCATCTCAGACAACCCTAGCGCGCATGTGAGATTACGGAAGTACTACAAAATACCGGGCCTATACCGTCATACCATAACAATGCCGTCAAAGAATGGTCGCTGGGCACCCCCAGCAAGCACGCGGACATAACAAGTACATTAACGTTAAGAAGAAAGACACCTTCCCACTATTGCGCACATAGCGCCCGGAGTATCCCCTGGCTCCCGGGAACACGTGGCTGATCACAGAACAAACCCAATGGGGTACCACATCGAACACATGAACATCAACGGACCTTCGACTGAAGGCTGAGGATCAGATAGACCCAGACACACGGAGGAAACGCACTACATACCCAAAGAGATCTTAAAGAGCTGAATAACGGGTCCAATACGCATTTCACCACAGACAAGCGTCAACCAAGAACTCCCGTAAAGAAAAGCCCCAGCGCGAGTGAAATAGGACCTCTTAACTCACGTGAAATCACACATTAGAACTAGTGACCAAGGACGAAGCCCATGCGCCTCATTGGAAGGCTTGATTTAACAACTGACCTCAGCAGGATACGAGCAGGACCCTCAGAGAGATAAGGCAATTGACTAATAAAGCTCATGGCCAATATGCGAGAGCATCATGGAGACTGCCACGTAGCGGGTAATCAAACAGACATGAGGCACCTCTGAAACTTAACGGCCAACATAAGAGACGACGAACTAACCACATACTTAACCTCAAGCTATGGCCAGTGGAATTGGTAACAAGCTACGCGACGCACTCTCTCGTAACGTGTGAAAAGCTCGGAACGCATAAAACGACGCATTTAAA\n",
      "A: 2 2 0 4 1 1 3 4 0 2 2 2 2 3 1 2 2 2 1 1 1 2 1 3 2 3 5 1 3 2 1 1 2 4 0 0 2 2 3 2 4 4 4 4 3 2 3 1 2 3 4 1 1 4 3 3 2 3 4 0 5 0 3 2 5 3 1 3 1 1 3 1 2 2 1 2 4 2 2 4 1 4 0 0 1 3 1 3 3 3 3 3 2 3 2 2 3 5 3 4 4 5 3 3 1 4 2 2 4 3 4 1 2 1 5 3 2 2 2 5 5 3 4 2 2 5 3 3 2 4 4 3 2 1 3 5 3 2 3 1 4 0 2 4 2 3 2 4 3 3 2 2 2 3 2 2 1 1 2 2 5 3 1 3 0 3 2 5 1 1 4 2 0 3 6 4 2 3 3 2 0 3 1 3 4 6 4 4 4 2 2 3 3 2 3 1 2 6 2 4 1 2 2 1 2 5 2 6 3 2 3 2 5 4 1 5 4 3 2 3 4 2 1 2 5 4 3 1 4 4 1 2 2 1 2 1 3 3 3 2 1 2 3 3 1 0 2 3 3 0 0 5 3 1 2 3 2 3 2 0 3 5 2 4 3 3 5 0 3 4 1 0 4 2 4 2 2 3 6 1 0 2 2 4 4 2 3 5 2 4 4 4 1 4 2 4 2 3 1 1 2 2 1 5 0 2 3 4 2 0 2 4 3 4 2 4 3 3 3 2 2 1 2 2 1 2 5 2 1 5 2 3 3 3 1 3 2 2 2 2 3 2 2 2 3 3 4 5 2 5 2 1 1 2 2 2 2 2 3 1 2 5 1 4 0 5 4 2 4 3 3 2 2 2 5 5 1 3 2 1 1 3 3 2 2 4 2 3 0 1 1 5 5 3 5 2 4 2 1 5 6 1 4 3 1 3 5 3 2 2 8 1 1 1 2 1 2 3 3 1 1 4 4 0 2 2 0 2 4 2 2 3 3 2 5 3 3 1 5 3 3 0 2 2 4 2 4 3 4 2 4 3 2 3 4 4 2 4 3 4 2 3 2 4 2 2 4 1 4 3 4 1 2 2 3 3 4 1 5 1 5 2 2 3 4 3 3 3 2 3 3 1 1 2 4 5 1 3 4 0 2 0 3 1 2 2 5 5 0 3 1 1 2 3 1 2 0 3 3 3 3 5 2 4 3 4 3 3 3 1 3 2 3 2 5 4 3 2 6 6 2 4 5 3 2 1 2 2 3 2 3 4 4 1 6 4 4 4 2 3 2 2 1 4 2 2 2 3 1 3 2 0 2 4 4 5 1 4 2 2 3 2 2 1 1 1 3 5 4 2 3 3 4 2 2 2 1 7 3 3 2 2 4 2 4 3 5 3 1 5 2 3 4 2 1 4 1 0 2 7 1 1 4 3 3 4 5 2 1 6 3 2 0 2 2 5 3 3 1 2 2 1 0 2 3 2 1 0 3 4 4 2 1 0 1 2 2 4 2 2 4 4 3 2 4 4 0 3 0 3 2 1 4 2 4 3 0 3 3 2 5 3 4 1 3 3 2 1 4 2 1 3 1 3 2 0 3 6 0 3 2 5 4 3 2 4 3 2 3 1 5 4 2 3 1 3 1 1 6 4 3 4 4 4 2 3 2 1 3 2 2 1 2 0 7 5 3 4 2 2 2 0 3 2 3 2 2 4 2 1 5 2 2 1 5 1 5 2 3 1 0 1 3 2 2 2 6 4 2 2 2 1 2 4 4 2 0 4 4 5 1 5 2 3 3 5 2 0 5 1 3 3 6 1 2 0 2 1 3 3 4 4 1 3 3 3 3 0 1 3 2 3 4 4 2 5 1 3 4 2 5 3 4 3 2 5 3 2 4 4 2 3 3 6 1 1 3 1 4 1 3 3 1 3 4 3 2 2 2 2 5 3 1 2 2 4 2 1 2 0 1 4 1 2 3 2 4 4 1 3 1 1 2 5 6 3 4 3 2 2 1 5 2 2 2 2 4 0 2 2 3 0 3 1 3 1 2 1 2 1 5 4 2 1 3 0 1 2 4 4 5 3 1 2 0 1 1 1 5 4 2 2 3 4 1 4 5 5 3 2 2 3 2 2 1 3 2 2 3 4 5 3 \n",
      "C: 2 1 3 5 2 3 2 1 5 3 5 0 2 3 5 2 1 4 1 2 1 3 5 4 2 4 2 3 3 3 3 3 4 1 6 5 5 3 4 2 2 3 2 3 4 2 1 4 3 3 2 4 3 2 3 2 2 4 1 3 1 7 2 3 2 4 3 3 3 3 2 3 4 1 1 2 2 4 4 3 3 2 4 7 4 2 2 1 2 2 3 2 2 2 2 2 3 0 1 4 2 2 3 3 1 3 2 4 1 2 3 1 1 5 3 5 3 3 3 1 2 3 2 4 3 0 3 2 2 0 2 2 5 2 1 0 1 3 3 2 5 3 3 1 2 3 5 3 3 5 3 5 3 1 2 3 2 5 3 4 2 3 1 2 2 1 2 1 2 3 2 3 2 1 3 3 1 0 3 3 3 3 4 1 1 3 3 1 3 5 5 2 1 2 4 4 2 1 2 3 4 3 2 3 5 1 3 2 6 3 3 1 2 1 3 0 3 1 0 4 5 2 3 5 3 2 1 3 3 1 1 2 1 3 3 3 4 3 2 2 3 4 3 5 3 4 3 4 2 2 5 1 3 3 3 2 3 1 3 3 1 2 5 1 2 3 2 4 3 2 1 3 2 5 1 1 2 3 0 4 3 2 2 3 0 2 3 4 3 2 2 1 2 1 3 4 4 5 3 2 3 5 4 3 5 1 2 1 2 2 4 1 4 2 4 3 0 3 1 5 2 5 4 5 2 2 1 2 2 1 1 4 4 4 3 2 2 2 5 2 4 6 3 2 0 0 2 1 4 2 5 2 3 2 2 4 1 2 3 2 4 1 5 2 2 1 1 4 2 3 2 4 4 5 1 2 0 2 3 2 1 0 2 4 5 2 6 2 1 5 2 3 2 4 1 6 2 2 2 2 1 4 1 2 4 2 4 4 3 0 1 4 4 2 1 5 2 3 4 2 4 2 1 2 3 6 3 2 1 2 3 3 0 4 1 2 3 2 2 1 3 6 3 6 2 2 2 5 1 3 1 4 1 2 1 1 3 0 2 4 6 1 3 0 5 2 2 5 3 0 1 4 5 5 2 3 1 3 3 3 3 2 5 1 1 2 2 3 0 2 3 5 3 2 2 0 2 2 1 4 1 2 1 3 6 4 3 1 2 2 4 2 3 2 3 1 1 5 3 5 4 1 4 1 1 2 5 2 2 1 4 2 2 3 0 3 5 6 1 2 2 3 4 4 2 5 4 3 2 2 3 1 3 1 2 3 0 2 2 5 4 4 6 1 2 4 2 5 3 3 2 4 1 2 1 1 1 0 0 1 2 4 4 3 4 2 2 3 3 4 2 4 1 3 1 2 1 0 2 3 1 3 4 4 0 4 1 0 3 3 1 3 1 4 1 1 2 1 2 1 3 3 1 3 1 0 2 3 2 1 1 2 5 5 4 3 0 0 6 2 6 5 2 3 2 1 1 3 3 2 3 3 3 5 3 0 2 3 2 1 0 1 2 5 3 3 5 0 3 2 4 4 1 4 3 1 4 3 1 2 3 2 2 4 0 2 1 4 1 3 3 2 4 4 4 1 5 1 2 1 0 0 1 2 1 2 3 1 2 4 3 2 1 1 2 1 4 2 0 2 0 4 1 1 2 5 3 7 3 3 3 3 3 4 1 2 2 1 3 1 4 3 2 2 2 1 4 3 2 3 2 2 2 2 0 3 2 4 1 1 4 5 3 3 0 2 1 0 4 2 2 0 2 3 1 3 4 3 3 2 4 3 1 2 4 1 3 1 1 3 2 4 2 3 3 4 4 1 1 3 1 0 5 1 2 3 3 4 2 2 4 5 2 0 4 2 1 3 1 2 0 1 1 4 3 1 4 2 3 3 3 2 2 2 4 4 3 3 3 1 3 4 2 1 1 3 3 3 2 3 0 2 1 3 2 2 2 1 3 4 4 3 0 1 1 2 2 3 3 1 1 1 0 0 2 4 3 3 3 3 3 3 4 2 5 1 3 5 1 4 3 4 1 3 1 5 2 4 1 1 1 1 5 2 1 1 1 2 2 2 1 2 1 4 3 5 3 4 2 3 4 1 4 2 3 2 1 1 3 4 2 3 4 3 7 3 1 0 1 3 3 2 \n",
      "G: 6 1 4 0 4 3 3 2 5 0 1 5 2 0 4 5 5 1 6 5 5 0 3 1 4 3 2 3 1 3 5 2 1 2 2 2 2 1 1 4 3 2 1 2 3 6 1 1 4 3 2 3 4 4 2 3 3 1 2 1 2 1 1 1 0 1 3 2 2 4 1 5 3 1 5 2 3 2 2 3 4 3 6 2 2 4 2 4 3 2 1 1 3 2 2 1 0 3 3 1 2 2 1 1 5 2 3 3 3 2 2 4 3 0 2 1 4 4 3 1 2 2 2 2 3 3 2 4 2 4 1 3 1 4 1 2 5 2 3 1 0 1 3 3 4 3 0 2 3 1 2 3 1 3 3 3 4 0 4 2 3 0 4 1 4 3 4 2 2 2 4 2 5 4 1 1 6 2 2 3 2 1 2 3 2 0 1 0 1 3 2 4 4 3 0 3 2 1 2 2 4 3 4 2 2 2 1 0 0 3 2 3 3 1 3 3 0 2 5 1 0 3 2 1 2 2 3 5 2 2 2 4 4 1 3 5 1 0 4 4 5 4 2 1 3 4 3 1 2 5 2 1 2 5 2 2 3 4 3 4 4 1 2 4 0 2 1 3 1 2 6 3 1 2 2 3 2 1 2 2 5 2 2 1 2 3 2 1 4 1 3 3 4 3 3 0 2 2 2 3 2 1 3 1 3 3 2 0 2 5 3 5 2 0 1 2 3 3 4 1 4 3 1 1 4 4 1 4 3 2 1 1 1 1 3 0 4 3 3 1 1 2 3 3 4 5 1 0 3 1 1 5 2 3 3 3 2 4 1 2 3 1 2 2 7 2 3 2 3 1 3 2 1 1 1 3 4 5 4 4 5 3 3 2 3 1 1 3 2 2 4 1 1 2 1 0 3 2 4 2 3 1 2 0 4 3 1 1 5 4 1 2 3 2 3 2 4 1 1 2 5 1 1 4 4 1 3 4 3 3 4 3 2 1 3 4 2 0 0 4 2 2 3 2 1 4 3 1 4 2 4 2 4 4 1 5 5 4 2 2 1 4 2 2 0 1 2 2 0 3 2 3 2 3 3 3 4 4 2 5 0 1 1 2 0 2 2 3 4 3 4 3 2 4 3 2 1 2 2 3 5 5 6 2 1 3 2 1 3 3 2 6 2 2 2 2 2 1 2 1 3 2 3 3 5 2 0 3 3 4 1 4 0 3 2 2 1 1 2 2 4 2 0 1 2 4 1 3 4 2 3 2 2 4 1 2 3 4 4 0 1 3 1 2 3 3 3 2 4 2 3 1 5 3 3 3 1 4 5 4 3 2 2 2 3 3 1 1 1 0 1 1 3 2 6 1 5 2 3 2 2 3 1 1 2 2 2 3 2 2 5 1 4 2 3 3 5 2 4 1 3 3 3 2 4 5 2 3 4 0 3 5 1 0 3 1 2 5 2 3 2 1 2 3 3 1 3 4 4 1 2 4 4 3 2 3 3 3 2 2 1 3 3 1 0 2 3 3 4 3 3 3 0 4 3 4 2 2 4 3 2 1 2 2 5 2 4 3 3 4 4 3 4 3 3 4 2 1 4 3 4 1 5 2 2 3 2 5 4 2 1 3 3 2 4 3 2 2 2 2 3 0 3 4 4 0 0 2 2 1 4 6 2 3 1 2 1 3 1 4 2 5 2 3 3 5 2 2 1 3 2 1 3 4 3 4 1 2 1 4 3 3 1 3 5 1 1 5 2 5 4 6 1 2 1 1 2 1 2 2 3 1 4 3 2 2 1 5 1 4 4 3 0 3 2 1 1 3 5 1 3 3 1 1 0 3 2 3 4 4 3 0 3 4 2 2 1 3 3 3 1 4 2 1 4 2 2 4 0 2 3 0 3 1 2 1 2 3 1 3 2 0 3 0 1 2 2 3 2 2 3 2 4 2 2 1 2 4 4 4 3 2 6 3 4 3 1 2 0 1 5 5 1 3 2 1 1 2 4 3 2 1 2 3 3 5 1 1 5 1 1 4 2 3 1 1 2 2 5 3 1 2 3 4 1 6 3 3 3 4 1 3 4 1 3 2 5 5 2 1 0 4 2 2 2 1 2 2 3 2 5 2 3 4 1 3 3 3 2 2 2 2 \n",
      "T: 0 6 3 1 3 3 2 3 0 5 2 3 4 4 0 1 2 3 2 2 3 5 1 2 2 0 1 3 3 2 1 4 3 3 2 3 1 4 2 2 1 1 3 1 0 0 5 4 1 1 2 2 2 0 2 2 3 2 3 6 2 2 4 4 3 2 3 2 4 2 4 1 1 6 3 4 1 2 2 0 2 1 0 1 3 1 5 2 2 3 3 4 3 3 4 5 4 2 3 1 2 1 3 3 3 1 3 1 2 3 1 4 4 4 0 1 1 1 2 3 1 2 2 2 2 2 2 1 4 2 3 2 2 3 5 3 1 3 1 6 1 6 2 2 2 1 3 1 1 1 3 0 4 3 3 2 3 4 1 2 0 4 4 4 4 3 2 2 5 4 0 3 3 2 0 2 1 5 2 2 5 3 3 3 3 1 2 5 2 0 1 1 2 3 3 2 4 2 4 1 1 2 2 4 1 2 4 2 1 2 2 4 0 4 3 2 3 4 3 2 1 3 4 2 0 2 3 1 1 3 6 2 3 5 2 1 2 4 1 2 1 0 2 1 3 2 2 2 3 3 3 3 2 1 3 3 2 2 2 3 2 2 1 1 5 2 2 3 3 2 2 4 3 1 3 4 4 3 2 3 2 4 4 2 4 3 2 0 1 3 1 2 3 2 2 2 2 0 4 4 3 2 2 1 2 4 3 5 4 3 1 0 1 4 3 1 4 1 2 2 2 1 3 2 3 2 3 2 4 2 6 2 2 2 3 5 2 3 0 5 2 0 2 3 3 2 3 4 1 2 2 2 4 3 3 1 5 2 3 5 1 3 2 2 1 2 2 2 1 3 2 2 3 2 3 0 5 0 1 3 3 4 2 2 0 3 1 2 7 2 3 1 2 1 3 2 1 4 3 1 0 4 3 5 1 2 0 2 0 4 0 3 2 5 4 2 2 3 2 5 0 3 4 4 1 1 4 2 2 3 1 1 5 3 1 1 2 7 3 2 2 2 2 0 3 2 1 1 1 3 1 1 3 1 4 0 0 2 3 0 1 2 3 4 3 5 2 2 3 4 3 2 1 0 2 1 1 2 0 1 2 5 2 4 5 3 3 1 4 2 0 1 4 2 1 3 6 3 3 3 2 3 0 4 1 1 0 3 5 2 3 1 3 3 4 5 7 1 2 1 0 2 1 2 1 2 2 2 2 4 2 2 5 2 3 1 1 1 1 0 2 1 1 2 4 0 3 2 1 4 1 3 1 4 1 1 3 0 2 2 3 1 2 3 3 1 3 0 2 2 3 5 2 1 2 1 7 2 3 3 2 2 2 4 2 4 4 1 2 4 4 2 2 3 1 5 3 1 2 2 5 2 1 3 4 1 2 4 4 0 2 3 1 2 5 2 2 7 2 1 3 3 2 2 2 1 1 2 3 3 3 1 4 3 1 1 5 2 1 3 0 3 6 2 2 6 5 3 0 3 1 1 2 2 4 5 3 0 4 5 5 2 2 2 3 1 2 4 3 2 1 2 5 0 0 2 4 2 2 3 0 4 2 3 2 3 3 2 2 1 2 2 1 0 1 5 0 2 4 3 4 4 0 3 5 1 2 2 1 3 1 1 4 4 3 3 3 5 2 2 4 2 2 1 2 2 5 0 2 4 1 0 3 3 1 1 4 2 4 3 2 2 3 3 2 2 2 1 5 3 1 5 3 3 2 2 2 2 5 4 3 1 3 2 3 5 2 1 2 1 2 3 5 1 4 4 4 2 1 1 2 1 3 2 1 2 4 4 3 2 1 0 2 3 3 5 3 5 1 3 2 3 3 5 5 1 2 3 3 1 1 2 1 2 2 1 7 1 2 3 4 2 3 2 1 2 1 2 3 1 2 5 2 1 3 4 2 3 2 5 2 3 4 6 4 2 3 2 4 3 2 3 4 3 4 3 4 4 1 2 2 1 3 4 2 3 3 1 6 5 3 3 7 2 0 2 2 2 1 2 4 1 2 3 0 2 2 4 2 3 3 2 4 3 5 3 4 3 2 5 3 3 0 3 5 3 5 3 1 0 3 2 4 3 4 2 1 0 1 2 4 3 1 2 4 3 2 2 1 2 1 2 1 1 1 1 4 5 4 1 0 3 \n"
     ]
    }
   ],
   "source": [
    "bases = ['A', 'C', 'G', 'T']\n",
    "sequences = fasta_to_dict(\"rosalind_cons (1).txt\")\n",
    "con, dict1 = concensus(sequences)\n",
    "\n",
    "print(con)\n",
    "\n",
    "for base in bases:\n",
    "    print(f\"{base}:\", end = ' ')\n",
    "    for pos in range(length):\n",
    "        print(dict1[pos][base], end = ' ')\n",
    "    print()\n"
   ]
  },
  {
   "cell_type": "code",
   "execution_count": null,
   "metadata": {},
   "outputs": [],
   "source": []
  }
 ],
 "metadata": {
  "kernelspec": {
   "display_name": "Python 3",
   "language": "python",
   "name": "python3"
  },
  "language_info": {
   "codemirror_mode": {
    "name": "ipython",
    "version": 3
   },
   "file_extension": ".py",
   "mimetype": "text/x-python",
   "name": "python",
   "nbconvert_exporter": "python",
   "pygments_lexer": "ipython3",
   "version": "3.7.4"
  }
 },
 "nbformat": 4,
 "nbformat_minor": 2
}

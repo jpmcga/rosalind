{
 "cells": [
  {
   "cell_type": "code",
   "execution_count": 17,
   "metadata": {},
   "outputs": [
    {
     "name": "stdout",
     "output_type": "stream",
     "text": [
      ">sp|B5ZC00|SYG_UREU1 Glycine--tRNA ligase OS=Ureaplasma urealyticum serovar 10 (strain ATCC 33699 / Western) OX=565575 GN=glyQS PE=3 SV=1\n",
      "MKNKFKTQEELVNHLKTVGFVFANSEIYNGLANAWDYGPLGVLLKNNLKNLWWKEFVTKQ\n",
      "KDVVGLDSAIILNPLVWKASGHLDNFSDPLIDCKNCKARYRADKLIESFDENIHIAENSS\n",
      "NEEFAKVLNDYEISCPTCKQFNWTEIRHFNLMFKTYQGVIEDAKNVVYLRPETAQGIFVN\n",
      "FKNVQRSMRLHLPFGIAQIGKSFRNEITPGNFIFRTREFEQMEIEFFLKEESAYDIFDKY\n",
      "LNQIENWLVSACGLSLNNLRKHEHPKEELSHYSKKTIDFEYNFLHGFSELYGIAYRTNYD\n",
      "LSVHMNLSKKDLTYFDEQTKEKYVPHVIEPSVGVERLLYAILTEATFIEKLENDDERILM\n",
      "DLKYDLAPYKIAVMPLVNKLKDKAEEIYGKILDLNISATFDNSGSIGKRYRRQDAIGTIY\n",
      "CLTIDFDSLDDQQDPSFTIRERNSMAQKRIKLSELPLYLNQKAHEDFQRQCQK\n",
      "\n",
      ">sp|B5ZC00|SYG_UREU1 Glycine--tRNA ligase OS=Ureaplasma urealyticum serovar 10 (strain ATCC 33699 / Western) OX=565575 GN=glyQS PE=3 SV=1\n",
      "MKNKFKTQEELVNHLKTVGFVFANSEIYNGLANAWDYGPLGVLLKNNLKNLWWKEFVTKQ\n",
      "KDVVGLDSAIILNPLVWKASGHLDNFSDPLIDCKNCKARYRADKLIESFDENIHIAENSS\n",
      "NEEFAKVLNDYEISCPTCKQFNWTEIRHFNLMFKTYQGVIEDAKNVVYLRPETAQGIFVN\n",
      "FKNVQRSMRLHLPFGIAQIGKSFRNEITPGNFIFRTREFEQMEIEFFLKEESAYDIFDKY\n",
      "LNQIENWLVSACGLSLNNLRKHEHPKEELSHYSKKTIDFEYNFLHGFSELYGIAYRTNYD\n",
      "LSVHMNLSKKDLTYFDEQTKEKYVPHVIEPSVGVERLLYAILTEATFIEKLENDDERILM\n",
      "DLKYDLAPYKIAVMPLVNKLKDKAEEIYGKILDLNISATFDNSGSIGKRYRRQDAIGTIY\n",
      "CLTIDFDSLDDQQDPSFTIRERNSMAQKRIKLSELPLYLNQKAHEDFQRQCQK\n",
      "\n"
     ]
    }
   ],
   "source": [
    "from urllib import request\n",
    "\n",
    "response = request.urlopen('https://www.uniprot.org/uniprot/B5ZC00.fasta')\n",
    "# print('RESPONSE:', response)\n",
    "# print('URL     :', response.geturl())\n",
    "\n",
    "# headers = response.info()\n",
    "# print('DATE    :', headers['date'])\n",
    "# print('HEADERS :')\n",
    "# print('---------')\n",
    "# print(headers)\n",
    "\n",
    "data = response.read().decode('utf-8')\n",
    "print(data)\n",
    "\n",
    "for line in data.split(\"\\n\"):\n",
    "    print(line)\n",
    "    \n",
    "for line in response:\n",
    "    print(line.decode('utf-8').rstrip())\n"
   ]
  },
  {
   "cell_type": "code",
   "execution_count": 61,
   "metadata": {},
   "outputs": [
    {
     "name": "stdout",
     "output_type": "stream",
     "text": [
      "P42098_ZP3_PIG\n",
      "124 146 179 271 \n",
      "P02765_A2HS_HUMAN\n",
      "156 176 \n",
      "O29347\n",
      "\n",
      "P10493_NIDO_MOUSE\n",
      "187 415 \n",
      "P81824_PABJ_BOTJA\n",
      "25 \n",
      "Q00001_RHGA_ASPAC\n",
      "50 235 317 \n",
      "P47002\n",
      "35 552 608 \n",
      "P21809_PGS1_BOVIN\n",
      "271 312 \n",
      "A8GP89\n",
      "101 \n",
      "P07585_PGS2_HUMAN\n",
      "211 262 303 \n",
      "P01047_KNL2_BOVIN\n",
      "47 87 168 169 197 204 280 \n",
      "Q55AB5\n",
      "6 \n"
     ]
    }
   ],
   "source": [
    "from urllib import request\n",
    "\n",
    "proteins = ['P42098_ZP3_PIG','P02765_A2HS_HUMAN','O29347',\n",
    "            'P10493_NIDO_MOUSE','P81824_PABJ_BOTJA',\n",
    "            'Q00001_RHGA_ASPAC','P47002','P21809_PGS1_BOVIN',\n",
    "            'A8GP89','P07585_PGS2_HUMAN','P01047_KNL2_BOVIN','Q55AB5']\n",
    "\n",
    "motif = 'NPSTP'\n",
    "\n",
    "for protein in proteins:\n",
    "    print(protein)\n",
    "    response = request.urlopen('https://www.uniprot.org/uniprot/{}.fasta'.format(protein))\n",
    "    sequence = []\n",
    "    for line in response:\n",
    "        line = line.decode('utf-8').rstrip()\n",
    "        if line[0] != \">\":\n",
    "            sequence.append(line)\n",
    "    sequence = \"\".join(sequence)\n",
    "\n",
    "    for pos in range(len(sequence)-len(motif)):\n",
    "        subseq = sequence[pos:pos+len(motif)]\n",
    "        if subseq[0] == 'N' \\\n",
    "        and subseq[1] != 'P' \\\n",
    "        and subseq[2] in ['S','T']\\\n",
    "        and subseq[3] != 'P': \n",
    "            print(pos+1, end = \" \")\n",
    "    print()"
   ]
  },
  {
   "cell_type": "code",
   "execution_count": null,
   "metadata": {},
   "outputs": [],
   "source": []
  }
 ],
 "metadata": {
  "kernelspec": {
   "display_name": "Python 3",
   "language": "python",
   "name": "python3"
  },
  "language_info": {
   "codemirror_mode": {
    "name": "ipython",
    "version": 3
   },
   "file_extension": ".py",
   "mimetype": "text/x-python",
   "name": "python",
   "nbconvert_exporter": "python",
   "pygments_lexer": "ipython3",
   "version": "3.7.4"
  }
 },
 "nbformat": 4,
 "nbformat_minor": 2
}

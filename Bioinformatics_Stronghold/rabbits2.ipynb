{
 "cells": [
  {
   "cell_type": "code",
   "execution_count": 10,
   "id": "ada84e30",
   "metadata": {},
   "outputs": [
    {
     "name": "stdout",
     "output_type": "stream",
     "text": [
      "[1, 1]\n",
      "[1, 1, 1]\n",
      "[1, 1, 1, 1]\n",
      "[1, 1, 1, 1, 1]\n",
      "[1, 1, 1, 1, 1, 1]\n"
     ]
    }
   ],
   "source": [
    "rabbits = [1]\n",
    "\n",
    "generations = 6\n",
    "offspring = 1\n",
    "ttl = 3\n",
    "\n",
    "\n",
    "for generation in range(generations-1):\n",
    "    new_rabbits = []\n",
    "    for rabbit in rabbits:\n",
    "\n",
    "        if rabbit > 1:\n",
    "            new_rabbits.append(1)\n",
    "        if rabbit == ttl:\n",
    "            new_rabbits.append(1)\n",
    "        rabbit += 1         \n",
    "\n",
    "    rabbits.extend(new_rabbits)\n",
    "    \n",
    "print(len(rabbits))\n",
    "\n",
    "\n",
    "\n",
    "\n",
    "        \n",
    "\n",
    "\n",
    "\n",
    "        "
   ]
  },
  {
   "cell_type": "code",
   "execution_count": 12,
   "id": "e728093e",
   "metadata": {},
   "outputs": [
    {
     "name": "stdout",
     "output_type": "stream",
     "text": [
      "['__class__', '__delattr__', '__dict__', '__dir__', '__doc__', '__eq__', '__format__', '__ge__', '__getattribute__', '__gt__', '__hash__', '__init__', '__init_subclass__', '__le__', '__lt__', '__module__', '__ne__', '__new__', '__reduce__', '__reduce_ex__', '__repr__', '__setattr__', '__sizeof__', '__str__', '__subclasshook__', '__weakref__', 'age']\n"
     ]
    }
   ],
   "source": []
  },
  {
   "cell_type": "raw",
   "id": "f0c209b5",
   "metadata": {},
   "source": [
    "class mating_pair:\n",
    "    def __init__(self, age):\n",
    "        self.age = age\n",
    "        \n",
    "    def grow_old(self):\n",
    "        self.age += 1\n",
    "        \n",
    "rabbits = [mating_pair(1)]\n",
    "\n",
    "generations = 99\n",
    "offspring = 1\n",
    "\n",
    "for generation in range(generations-1):\n",
    "    new_rabbits = []\n",
    "    for rabbit in list(rabbits):\n",
    "        if rabbit.age > 1:\n",
    "            new_rabbits.extend([mating_pair(1) for offspring in range(offspring)])\n",
    "        if rabbit.age == 16:\n",
    "            new_rabbits.extend([mating_pair(1) for offspring in range(offspring)])\n",
    "            rabbits.remove(rabbit)\n",
    "        rabbit.grow_old()        \n",
    "\n",
    "    rabbits.extend(new_rabbits)\n",
    "    \n",
    "    print(len(rabbits))\n",
    "\n",
    "\n",
    "\n",
    "\n",
    "        \n",
    "\n",
    "\n",
    "\n",
    "        "
   ]
  }
 ],
 "metadata": {
  "kernelspec": {
   "display_name": "Python 3 (ipykernel)",
   "language": "python",
   "name": "python3"
  },
  "language_info": {
   "codemirror_mode": {
    "name": "ipython",
    "version": 3
   },
   "file_extension": ".py",
   "mimetype": "text/x-python",
   "name": "python",
   "nbconvert_exporter": "python",
   "pygments_lexer": "ipython3",
   "version": "3.8.5"
  }
 },
 "nbformat": 4,
 "nbformat_minor": 5
}

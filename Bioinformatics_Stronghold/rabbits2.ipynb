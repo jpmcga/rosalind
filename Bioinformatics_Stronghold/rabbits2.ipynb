{
 "cells": [
  {
   "cell_type": "code",
   "execution_count": 10,
   "id": "ada84e30",
   "metadata": {},
   "outputs": [
    {
     "name": "stdout",
     "output_type": "stream",
     "text": [
      "[1, 1]\n",
      "[1, 1, 1]\n",
      "[1, 1, 1, 1]\n",
      "[1, 1, 1, 1, 1]\n",
      "[1, 1, 1, 1, 1, 1]\n"
     ]
    }
   ],
   "source": [
    "# OO approch, failed bc it took too long\n",
    "\n",
    "class mating_pair:\n",
    "    def __init__(self, age):\n",
    "        self.age = age\n",
    "        \n",
    "    def grow_old(self):\n",
    "        self.age += 1\n",
    "        \n",
    "rabbits = [mating_pair(1)]\n",
    "\n",
    "generations = 99\n",
    "offspring = 1\n",
    "\n",
    "for generation in range(generations-1):\n",
    "    new_rabbits = []\n",
    "    for rabbit in list(rabbits):\n",
    "        if rabbit.age > 1:\n",
    "            new_rabbits.extend([mating_pair(1) for offspring in range(offspring)])\n",
    "        if rabbit.age == 16:\n",
    "            new_rabbits.extend([mating_pair(1) for offspring in range(offspring)])\n",
    "            rabbits.remove(rabbit)\n",
    "        rabbit.grow_old()        \n",
    "\n",
    "    rabbits.extend(new_rabbits)\n",
    "    \n",
    "    print(len(rabbits))\n",
    "\n",
    "\n",
    "\n"
   ]
  },
  {
   "cell_type": "code",
   "execution_count": 1,
   "id": "1b70a6c7",
   "metadata": {},
   "outputs": [],
   "source": [
    "# Thoought could solve from Fibbianci sequence\n",
    "\n",
    "import math\n",
    "\n",
    "def binet(n):\n",
    "    isqrt5 = 1/math.sqrt(5)\n",
    "    return round(isqrt5*((1+math.sqrt(5))/2)**n - isqrt5*((1-math.sqrt(5))/2)**n)\n",
    "    \n",
    "def fib_sum(n):\n",
    "    return binet(n+2)-1\n",
    "\n",
    "def mortal_fib(m):\n",
    "    \n",
    "    if m <= 0:\n",
    "        raise ValueError(\"Integers gt 0 pls\")\n",
    "    m = m-1\n",
    "    if m == 0:\n",
    "        return 1\n",
    "    else:\n",
    "        return binet(m) - fib_sum(m-4)"
   ]
  },
  {
   "cell_type": "code",
   "execution_count": null,
   "id": "8d90f505",
   "metadata": {},
   "outputs": [],
   "source": []
  },
  {
   "cell_type": "code",
   "execution_count": null,
   "id": "1fbf3ab0",
   "metadata": {},
   "outputs": [],
   "source": []
  }
 ],
 "metadata": {
  "kernelspec": {
   "display_name": "Python 3",
   "language": "python",
   "name": "python3"
  },
  "language_info": {
   "codemirror_mode": {
    "name": "ipython",
    "version": 3
   },
   "file_extension": ".py",
   "mimetype": "text/x-python",
   "name": "python",
   "nbconvert_exporter": "python",
   "pygments_lexer": "ipython3",
   "version": "3.8.8"
  }
 },
 "nbformat": 4,
 "nbformat_minor": 5
}
